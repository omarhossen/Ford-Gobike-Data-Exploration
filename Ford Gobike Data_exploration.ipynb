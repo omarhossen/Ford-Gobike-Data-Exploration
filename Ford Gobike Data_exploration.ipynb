{
 "cells": [
  {
   "cell_type": "markdown",
   "metadata": {},
   "source": [
    "# (Ford Gobike Data Visualization)\n",
    "## by (Omar Reda Hosseny )\n",
    "\n",
    "## Preliminary Wrangling\n",
    "\n",
    "> This data set includes information about individual rides made in a bike-sharing system covering the greater San Francisco Bay area and explains these rides through information about trip duration ,stations information and users information."
   ]
  },
  {
   "cell_type": "code",
   "execution_count": 1,
   "metadata": {},
   "outputs": [],
   "source": [
    "# import all packages and set plots to be embedded inline\n",
    "import numpy as np\n",
    "import pandas as pd\n",
    "import matplotlib.pyplot as plt\n",
    "import seaborn as sb\n",
    "\n",
    "%matplotlib inline"
   ]
  },
  {
   "cell_type": "markdown",
   "metadata": {},
   "source": [
    "> Load in your dataset and describe its properties through the questions below.\n",
    "Try and motivate your exploration goals through this section."
   ]
  },
  {
   "cell_type": "code",
   "execution_count": 3,
   "metadata": {},
   "outputs": [
    {
     "name": "stdout",
     "output_type": "stream",
     "text": [
      "(183412, 16)\n"
     ]
    },
    {
     "data": {
      "text/html": [
       "<div>\n",
       "<style scoped>\n",
       "    .dataframe tbody tr th:only-of-type {\n",
       "        vertical-align: middle;\n",
       "    }\n",
       "\n",
       "    .dataframe tbody tr th {\n",
       "        vertical-align: top;\n",
       "    }\n",
       "\n",
       "    .dataframe thead th {\n",
       "        text-align: right;\n",
       "    }\n",
       "</style>\n",
       "<table border=\"1\" class=\"dataframe\">\n",
       "  <thead>\n",
       "    <tr style=\"text-align: right;\">\n",
       "      <th></th>\n",
       "      <th>duration_sec</th>\n",
       "      <th>start_time</th>\n",
       "      <th>end_time</th>\n",
       "      <th>start_station_id</th>\n",
       "      <th>start_station_name</th>\n",
       "      <th>start_station_latitude</th>\n",
       "      <th>start_station_longitude</th>\n",
       "      <th>end_station_id</th>\n",
       "      <th>end_station_name</th>\n",
       "      <th>end_station_latitude</th>\n",
       "      <th>end_station_longitude</th>\n",
       "      <th>bike_id</th>\n",
       "      <th>user_type</th>\n",
       "      <th>member_birth_year</th>\n",
       "      <th>member_gender</th>\n",
       "      <th>bike_share_for_all_trip</th>\n",
       "    </tr>\n",
       "  </thead>\n",
       "  <tbody>\n",
       "    <tr>\n",
       "      <th>0</th>\n",
       "      <td>52185</td>\n",
       "      <td>2019-02-28 17:32:10.1450</td>\n",
       "      <td>2019-03-01 08:01:55.9750</td>\n",
       "      <td>21.0</td>\n",
       "      <td>Montgomery St BART Station (Market St at 2nd St)</td>\n",
       "      <td>37.789625</td>\n",
       "      <td>-122.400811</td>\n",
       "      <td>13.0</td>\n",
       "      <td>Commercial St at Montgomery St</td>\n",
       "      <td>37.794231</td>\n",
       "      <td>-122.402923</td>\n",
       "      <td>4902</td>\n",
       "      <td>Customer</td>\n",
       "      <td>1984.0</td>\n",
       "      <td>Male</td>\n",
       "      <td>No</td>\n",
       "    </tr>\n",
       "    <tr>\n",
       "      <th>1</th>\n",
       "      <td>42521</td>\n",
       "      <td>2019-02-28 18:53:21.7890</td>\n",
       "      <td>2019-03-01 06:42:03.0560</td>\n",
       "      <td>23.0</td>\n",
       "      <td>The Embarcadero at Steuart St</td>\n",
       "      <td>37.791464</td>\n",
       "      <td>-122.391034</td>\n",
       "      <td>81.0</td>\n",
       "      <td>Berry St at 4th St</td>\n",
       "      <td>37.775880</td>\n",
       "      <td>-122.393170</td>\n",
       "      <td>2535</td>\n",
       "      <td>Customer</td>\n",
       "      <td>NaN</td>\n",
       "      <td>NaN</td>\n",
       "      <td>No</td>\n",
       "    </tr>\n",
       "    <tr>\n",
       "      <th>2</th>\n",
       "      <td>61854</td>\n",
       "      <td>2019-02-28 12:13:13.2180</td>\n",
       "      <td>2019-03-01 05:24:08.1460</td>\n",
       "      <td>86.0</td>\n",
       "      <td>Market St at Dolores St</td>\n",
       "      <td>37.769305</td>\n",
       "      <td>-122.426826</td>\n",
       "      <td>3.0</td>\n",
       "      <td>Powell St BART Station (Market St at 4th St)</td>\n",
       "      <td>37.786375</td>\n",
       "      <td>-122.404904</td>\n",
       "      <td>5905</td>\n",
       "      <td>Customer</td>\n",
       "      <td>1972.0</td>\n",
       "      <td>Male</td>\n",
       "      <td>No</td>\n",
       "    </tr>\n",
       "    <tr>\n",
       "      <th>3</th>\n",
       "      <td>36490</td>\n",
       "      <td>2019-02-28 17:54:26.0100</td>\n",
       "      <td>2019-03-01 04:02:36.8420</td>\n",
       "      <td>375.0</td>\n",
       "      <td>Grove St at Masonic Ave</td>\n",
       "      <td>37.774836</td>\n",
       "      <td>-122.446546</td>\n",
       "      <td>70.0</td>\n",
       "      <td>Central Ave at Fell St</td>\n",
       "      <td>37.773311</td>\n",
       "      <td>-122.444293</td>\n",
       "      <td>6638</td>\n",
       "      <td>Subscriber</td>\n",
       "      <td>1989.0</td>\n",
       "      <td>Other</td>\n",
       "      <td>No</td>\n",
       "    </tr>\n",
       "    <tr>\n",
       "      <th>4</th>\n",
       "      <td>1585</td>\n",
       "      <td>2019-02-28 23:54:18.5490</td>\n",
       "      <td>2019-03-01 00:20:44.0740</td>\n",
       "      <td>7.0</td>\n",
       "      <td>Frank H Ogawa Plaza</td>\n",
       "      <td>37.804562</td>\n",
       "      <td>-122.271738</td>\n",
       "      <td>222.0</td>\n",
       "      <td>10th Ave at E 15th St</td>\n",
       "      <td>37.792714</td>\n",
       "      <td>-122.248780</td>\n",
       "      <td>4898</td>\n",
       "      <td>Subscriber</td>\n",
       "      <td>1974.0</td>\n",
       "      <td>Male</td>\n",
       "      <td>Yes</td>\n",
       "    </tr>\n",
       "  </tbody>\n",
       "</table>\n",
       "</div>"
      ],
      "text/plain": [
       "   duration_sec                start_time                  end_time  \\\n",
       "0         52185  2019-02-28 17:32:10.1450  2019-03-01 08:01:55.9750   \n",
       "1         42521  2019-02-28 18:53:21.7890  2019-03-01 06:42:03.0560   \n",
       "2         61854  2019-02-28 12:13:13.2180  2019-03-01 05:24:08.1460   \n",
       "3         36490  2019-02-28 17:54:26.0100  2019-03-01 04:02:36.8420   \n",
       "4          1585  2019-02-28 23:54:18.5490  2019-03-01 00:20:44.0740   \n",
       "\n",
       "   start_station_id                                start_station_name  \\\n",
       "0              21.0  Montgomery St BART Station (Market St at 2nd St)   \n",
       "1              23.0                     The Embarcadero at Steuart St   \n",
       "2              86.0                           Market St at Dolores St   \n",
       "3             375.0                           Grove St at Masonic Ave   \n",
       "4               7.0                               Frank H Ogawa Plaza   \n",
       "\n",
       "   start_station_latitude  start_station_longitude  end_station_id  \\\n",
       "0               37.789625              -122.400811            13.0   \n",
       "1               37.791464              -122.391034            81.0   \n",
       "2               37.769305              -122.426826             3.0   \n",
       "3               37.774836              -122.446546            70.0   \n",
       "4               37.804562              -122.271738           222.0   \n",
       "\n",
       "                               end_station_name  end_station_latitude  \\\n",
       "0                Commercial St at Montgomery St             37.794231   \n",
       "1                            Berry St at 4th St             37.775880   \n",
       "2  Powell St BART Station (Market St at 4th St)             37.786375   \n",
       "3                        Central Ave at Fell St             37.773311   \n",
       "4                         10th Ave at E 15th St             37.792714   \n",
       "\n",
       "   end_station_longitude  bike_id   user_type  member_birth_year  \\\n",
       "0            -122.402923     4902    Customer             1984.0   \n",
       "1            -122.393170     2535    Customer                NaN   \n",
       "2            -122.404904     5905    Customer             1972.0   \n",
       "3            -122.444293     6638  Subscriber             1989.0   \n",
       "4            -122.248780     4898  Subscriber             1974.0   \n",
       "\n",
       "  member_gender bike_share_for_all_trip  \n",
       "0          Male                      No  \n",
       "1           NaN                      No  \n",
       "2          Male                      No  \n",
       "3         Other                      No  \n",
       "4          Male                     Yes  "
      ]
     },
     "execution_count": 3,
     "metadata": {},
     "output_type": "execute_result"
    }
   ],
   "source": [
    "#load in the dataset into a pandas dataframe and print statistics\n",
    "df= pd.read_csv('E:/p4/201902-fordgobike-tripdata.csv')\n",
    "print(df.shape)\n",
    "df.head()"
   ]
  },
  {
   "cell_type": "markdown",
   "metadata": {},
   "source": [
    "## check for cleanliness"
   ]
  },
  {
   "cell_type": "code",
   "execution_count": 55,
   "metadata": {},
   "outputs": [
    {
     "name": "stdout",
     "output_type": "stream",
     "text": [
      "<class 'pandas.core.frame.DataFrame'>\n",
      "RangeIndex: 183412 entries, 0 to 183411\n",
      "Data columns (total 16 columns):\n",
      " #   Column                   Non-Null Count   Dtype  \n",
      "---  ------                   --------------   -----  \n",
      " 0   duration_sec             183412 non-null  int64  \n",
      " 1   start_time               183412 non-null  object \n",
      " 2   end_time                 183412 non-null  object \n",
      " 3   start_station_id         183215 non-null  float64\n",
      " 4   start_station_name       183215 non-null  object \n",
      " 5   start_station_latitude   183412 non-null  float64\n",
      " 6   start_station_longitude  183412 non-null  float64\n",
      " 7   end_station_id           183215 non-null  float64\n",
      " 8   end_station_name         183215 non-null  object \n",
      " 9   end_station_latitude     183412 non-null  float64\n",
      " 10  end_station_longitude    183412 non-null  float64\n",
      " 11  bike_id                  183412 non-null  int64  \n",
      " 12  user_type                183412 non-null  object \n",
      " 13  member_birth_year        175147 non-null  float64\n",
      " 14  member_gender            175147 non-null  object \n",
      " 15  bike_share_for_all_trip  183412 non-null  object \n",
      "dtypes: float64(7), int64(2), object(7)\n",
      "memory usage: 22.4+ MB\n",
      "None\n"
     ]
    }
   ],
   "source": [
    "#showing general information about data (data types of columns - counts of each columns values)\n",
    "print(df.info())"
   ]
  },
  {
   "cell_type": "markdown",
   "metadata": {},
   "source": [
    " > According to the results above   \n",
    " **1-there are columns with datatypes which    \n",
    "     not ideal for analyzing data of these coulmns such as:**   \n",
    "     ***start_time that should be datetime datatype and bike_id that should be object datatype***   \n",
    " **2-there are columns with missing data such as member_birth_year and member_gender**    \n",
    " as thier counts are less than the count of the dataset.   "
   ]
  },
  {
   "cell_type": "code",
   "execution_count": 56,
   "metadata": {},
   "outputs": [
    {
     "name": "stdout",
     "output_type": "stream",
     "text": [
      "        duration_sec  start_station_id  start_station_latitude  \\\n",
      "count  183412.000000     183215.000000           183412.000000   \n",
      "mean      726.078435        138.590427               37.771223   \n",
      "std      1794.389780        111.778864                0.099581   \n",
      "min        61.000000          3.000000               37.317298   \n",
      "25%       325.000000         47.000000               37.770083   \n",
      "50%       514.000000        104.000000               37.780760   \n",
      "75%       796.000000        239.000000               37.797280   \n",
      "max     85444.000000        398.000000               37.880222   \n",
      "\n",
      "       start_station_longitude  end_station_id  end_station_latitude  \\\n",
      "count            183412.000000   183215.000000         183412.000000   \n",
      "mean               -122.352664      136.249123             37.771427   \n",
      "std                   0.117097      111.515131              0.099490   \n",
      "min                -122.453704        3.000000             37.317298   \n",
      "25%                -122.412408       44.000000             37.770407   \n",
      "50%                -122.398285      100.000000             37.781010   \n",
      "75%                -122.286533      235.000000             37.797320   \n",
      "max                -121.874119      398.000000             37.880222   \n",
      "\n",
      "       end_station_longitude        bike_id  member_birth_year  \n",
      "count          183412.000000  183412.000000      175147.000000  \n",
      "mean             -122.352250    4472.906375        1984.806437  \n",
      "std                 0.116673    1664.383394          10.116689  \n",
      "min              -122.453704      11.000000        1878.000000  \n",
      "25%              -122.411726    3777.000000        1980.000000  \n",
      "50%              -122.398279    4958.000000        1987.000000  \n",
      "75%              -122.288045    5502.000000        1992.000000  \n",
      "max              -121.874119    6645.000000        2001.000000  \n"
     ]
    }
   ],
   "source": [
    "#showing statistical information about  numerical data columns (count,mean,std,5number summary)\n",
    "print(df.describe())"
   ]
  },
  {
   "cell_type": "markdown",
   "metadata": {},
   "source": [
    " > According to the results above   \n",
    " **there is column with unlogic values such as member_birth_year in the minimum value of 1878   \n",
    "     which the age of the member will be over 140 year!**"
   ]
  },
  {
   "cell_type": "markdown",
   "metadata": {},
   "source": [
    "# information about columns with missing data "
   ]
  },
  {
   "cell_type": "code",
   "execution_count": 57,
   "metadata": {},
   "outputs": [
    {
     "name": "stdout",
     "output_type": "stream",
     "text": [
      "Number of columns with missing data is:\n",
      " 6\n",
      "Number of missing data in each column is : \n",
      " duration_sec                  0\n",
      "start_time                    0\n",
      "end_time                      0\n",
      "start_station_id            197\n",
      "start_station_name          197\n",
      "start_station_latitude        0\n",
      "start_station_longitude       0\n",
      "end_station_id              197\n",
      "end_station_name            197\n",
      "end_station_latitude          0\n",
      "end_station_longitude         0\n",
      "bike_id                       0\n",
      "user_type                     0\n",
      "member_birth_year          8265\n",
      "member_gender              8265\n",
      "bike_share_for_all_trip       0\n",
      "dtype: int64\n"
     ]
    }
   ],
   "source": [
    "#calculate number of columns with missing data \n",
    "number_of_columns_with_missing_data=df.isnull().any().sum()\n",
    "print(\"Number of columns with missing data is:\\n\",number_of_columns_with_missing_data)\n",
    "#number of missing values in each column\n",
    "print(\"Number of missing data in each column is : \\n\", df.isnull().sum())"
   ]
  },
  {
   "cell_type": "markdown",
   "metadata": {},
   "source": [
    "> According to the results above\n",
    " **there are (6)columns with missing data**    \n",
    " and the counts of missing data in each one are showen in results above."
   ]
  },
  {
   "cell_type": "markdown",
   "metadata": {},
   "source": [
    "# information about duplicate rows in dataset"
   ]
  },
  {
   "cell_type": "code",
   "execution_count": 58,
   "metadata": {},
   "outputs": [
    {
     "name": "stdout",
     "output_type": "stream",
     "text": [
      "number of duplicated rows is :\n",
      "  0\n"
     ]
    }
   ],
   "source": [
    "#calculate duplicate rows in dataset\n",
    "print(\"number of duplicated rows is :\\n \" ,df.duplicated().sum())"
   ]
  },
  {
   "cell_type": "markdown",
   "metadata": {},
   "source": [
    "# checking unique values for columns for  better analyzing "
   ]
  },
  {
   "cell_type": "code",
   "execution_count": 59,
   "metadata": {},
   "outputs": [
    {
     "data": {
      "text/plain": [
       "duration_sec                 4752\n",
       "start_time                 183401\n",
       "end_time                   183397\n",
       "start_station_id              329\n",
       "start_station_name            329\n",
       "start_station_latitude        334\n",
       "start_station_longitude       335\n",
       "end_station_id                329\n",
       "end_station_name              329\n",
       "end_station_latitude          335\n",
       "end_station_longitude         335\n",
       "bike_id                      4646\n",
       "user_type                       2\n",
       "member_birth_year              75\n",
       "member_gender                   3\n",
       "bike_share_for_all_trip         2\n",
       "dtype: int64"
      ]
     },
     "execution_count": 59,
     "metadata": {},
     "output_type": "execute_result"
    }
   ],
   "source": [
    "#number of unique values in each column in our dataset\n",
    "df.nunique()"
   ]
  },
  {
   "cell_type": "markdown",
   "metadata": {},
   "source": [
    " **next we will focus in (user_type-member_gender-bike_share_for_all_trip)columns   \n",
    "   and make some checking in thier values**"
   ]
  },
  {
   "cell_type": "code",
   "execution_count": 60,
   "metadata": {},
   "outputs": [
    {
     "name": "stdout",
     "output_type": "stream",
     "text": [
      "['Customer' 'Subscriber']\n",
      "['Male' nan 'Other' 'Female']\n",
      "['No' 'Yes']\n"
     ]
    }
   ],
   "source": [
    "print(df['user_type'].unique())\n",
    "print(df['member_gender'].unique())\n",
    "print(df['bike_share_for_all_trip'].unique())"
   ]
  },
  {
   "cell_type": "markdown",
   "metadata": {},
   "source": [
    "**there are nan values in the column of member gender so we will clean these values in the cleaning section**"
   ]
  },
  {
   "cell_type": "markdown",
   "metadata": {},
   "source": [
    "### Data Cleaning (1- delete columns which I will not use in the analysis)"
   ]
  },
  {
   "cell_type": "code",
   "execution_count": 61,
   "metadata": {},
   "outputs": [
    {
     "name": "stdout",
     "output_type": "stream",
     "text": [
      "Structure of data after deleting columns above is: \n",
      " (183412, 7)\n",
      "<class 'pandas.core.frame.DataFrame'>\n",
      "RangeIndex: 183412 entries, 0 to 183411\n",
      "Data columns (total 7 columns):\n",
      " #   Column                   Non-Null Count   Dtype  \n",
      "---  ------                   --------------   -----  \n",
      " 0   duration_sec             183412 non-null  int64  \n",
      " 1   start_time               183412 non-null  object \n",
      " 2   bike_id                  183412 non-null  int64  \n",
      " 3   user_type                183412 non-null  object \n",
      " 4   member_birth_year        175147 non-null  float64\n",
      " 5   member_gender            175147 non-null  object \n",
      " 6   bike_share_for_all_trip  183412 non-null  object \n",
      "dtypes: float64(1), int64(2), object(4)\n",
      "memory usage: 9.8+ MB\n",
      "None\n"
     ]
    }
   ],
   "source": [
    "df.drop(['end_time','start_station_id','end_station_name','start_station_name','start_station_latitude','start_station_longitude','end_station_id','end_station_longitude','end_station_latitude'],axis=1,inplace=True)\n",
    "print('Structure of data after deleting columns above is: \\n',df.shape)\n",
    "print(df.info())"
   ]
  },
  {
   "cell_type": "markdown",
   "metadata": {},
   "source": [
    "### Data Cleaning (2-change data types of columns which have incorrect data types)"
   ]
  },
  {
   "cell_type": "code",
   "execution_count": 63,
   "metadata": {},
   "outputs": [
    {
     "name": "stdout",
     "output_type": "stream",
     "text": [
      "<class 'pandas.core.frame.DataFrame'>\n",
      "RangeIndex: 183412 entries, 0 to 183411\n",
      "Data columns (total 7 columns):\n",
      " #   Column                   Non-Null Count   Dtype         \n",
      "---  ------                   --------------   -----         \n",
      " 0   duration_sec             183412 non-null  int64         \n",
      " 1   start_time               183412 non-null  datetime64[ns]\n",
      " 2   bike_id                  183412 non-null  object        \n",
      " 3   user_type                183412 non-null  object        \n",
      " 4   member_birth_year        175147 non-null  float64       \n",
      " 5   member_gender            175147 non-null  object        \n",
      " 6   bike_share_for_all_trip  183412 non-null  object        \n",
      "dtypes: datetime64[ns](1), float64(1), int64(1), object(4)\n",
      "memory usage: 9.8+ MB\n"
     ]
    }
   ],
   "source": [
    "#change start_time from object to datetime  \n",
    "df['start_time'] = pd.to_datetime(df['start_time'])\n",
    "#change bike_id from int to string\n",
    "df['bike_id'] = df['bike_id'].astype(str)\n",
    "df.info()"
   ]
  },
  {
   "cell_type": "markdown",
   "metadata": {},
   "source": [
    "### Data Cleaning (3- dealing with columns with missing data)\n",
    "we will fill missing data in (member gender, member birth year)columns with most common value(mode)   \n",
    "***as a way to avoid deleting them***              "
   ]
  },
  {
   "cell_type": "code",
   "execution_count": 64,
   "metadata": {},
   "outputs": [
    {
     "name": "stdout",
     "output_type": "stream",
     "text": [
      "<class 'pandas.core.frame.DataFrame'>\n",
      "RangeIndex: 183412 entries, 0 to 183411\n",
      "Data columns (total 7 columns):\n",
      " #   Column                   Non-Null Count   Dtype         \n",
      "---  ------                   --------------   -----         \n",
      " 0   duration_sec             183412 non-null  int64         \n",
      " 1   start_time               183412 non-null  datetime64[ns]\n",
      " 2   bike_id                  183412 non-null  object        \n",
      " 3   user_type                183412 non-null  object        \n",
      " 4   member_birth_year        183412 non-null  float64       \n",
      " 5   member_gender            183412 non-null  object        \n",
      " 6   bike_share_for_all_trip  183412 non-null  object        \n",
      "dtypes: datetime64[ns](1), float64(1), int64(1), object(4)\n",
      "memory usage: 9.8+ MB\n"
     ]
    }
   ],
   "source": [
    "df['member_gender']=df['member_gender'].fillna(df['member_gender'].mode()[0])\n",
    "df['member_birth_year']=df['member_birth_year'].fillna(df['member_birth_year'].mode()[0])\n",
    "df.info()"
   ]
  },
  {
   "cell_type": "markdown",
   "metadata": {},
   "source": [
    "# Creating new columns for better analysis\n"
   ]
  },
  {
   "cell_type": "code",
   "execution_count": 65,
   "metadata": {},
   "outputs": [],
   "source": [
    "#1-start_hour column\n",
    "df['start_hour']=df['start_time'].dt.hour\n",
    "#2-start_day column\n",
    "df['start_day']=df['start_time'].dt.day_name()\n",
    "#3-start_month column\n",
    "df['start_month']=df['start_time'].dt.month"
   ]
  },
  {
   "cell_type": "code",
   "execution_count": 66,
   "metadata": {},
   "outputs": [
    {
     "name": "stdout",
     "output_type": "stream",
     "text": [
      "2019-02-28 23:59:18.548000\n"
     ]
    }
   ],
   "source": [
    "#calculating max year in start time to use in creating member age column\n",
    "print(df['start_time'].max())"
   ]
  },
  {
   "cell_type": "code",
   "execution_count": 67,
   "metadata": {},
   "outputs": [
    {
     "name": "stdout",
     "output_type": "stream",
     "text": [
      "(183412, 9)\n",
      "<class 'pandas.core.frame.DataFrame'>\n",
      "RangeIndex: 183412 entries, 0 to 183411\n",
      "Data columns (total 9 columns):\n",
      " #   Column                   Non-Null Count   Dtype  \n",
      "---  ------                   --------------   -----  \n",
      " 0   duration_sec             183412 non-null  int64  \n",
      " 1   bike_id                  183412 non-null  object \n",
      " 2   user_type                183412 non-null  object \n",
      " 3   member_gender            183412 non-null  object \n",
      " 4   bike_share_for_all_trip  183412 non-null  object \n",
      " 5   start_hour               183412 non-null  int64  \n",
      " 6   start_day                183412 non-null  object \n",
      " 7   start_month              183412 non-null  int64  \n",
      " 8   member_age               183412 non-null  float64\n",
      "dtypes: float64(1), int64(3), object(5)\n",
      "memory usage: 12.6+ MB\n",
      "None\n"
     ]
    },
    {
     "data": {
      "text/html": [
       "<div>\n",
       "<style scoped>\n",
       "    .dataframe tbody tr th:only-of-type {\n",
       "        vertical-align: middle;\n",
       "    }\n",
       "\n",
       "    .dataframe tbody tr th {\n",
       "        vertical-align: top;\n",
       "    }\n",
       "\n",
       "    .dataframe thead th {\n",
       "        text-align: right;\n",
       "    }\n",
       "</style>\n",
       "<table border=\"1\" class=\"dataframe\">\n",
       "  <thead>\n",
       "    <tr style=\"text-align: right;\">\n",
       "      <th></th>\n",
       "      <th>duration_sec</th>\n",
       "      <th>bike_id</th>\n",
       "      <th>user_type</th>\n",
       "      <th>member_gender</th>\n",
       "      <th>bike_share_for_all_trip</th>\n",
       "      <th>start_hour</th>\n",
       "      <th>start_day</th>\n",
       "      <th>start_month</th>\n",
       "      <th>member_age</th>\n",
       "    </tr>\n",
       "  </thead>\n",
       "  <tbody>\n",
       "    <tr>\n",
       "      <th>0</th>\n",
       "      <td>52185</td>\n",
       "      <td>4902</td>\n",
       "      <td>Customer</td>\n",
       "      <td>Male</td>\n",
       "      <td>No</td>\n",
       "      <td>17</td>\n",
       "      <td>Thursday</td>\n",
       "      <td>2</td>\n",
       "      <td>35.0</td>\n",
       "    </tr>\n",
       "    <tr>\n",
       "      <th>1</th>\n",
       "      <td>42521</td>\n",
       "      <td>2535</td>\n",
       "      <td>Customer</td>\n",
       "      <td>Male</td>\n",
       "      <td>No</td>\n",
       "      <td>18</td>\n",
       "      <td>Thursday</td>\n",
       "      <td>2</td>\n",
       "      <td>31.0</td>\n",
       "    </tr>\n",
       "    <tr>\n",
       "      <th>2</th>\n",
       "      <td>61854</td>\n",
       "      <td>5905</td>\n",
       "      <td>Customer</td>\n",
       "      <td>Male</td>\n",
       "      <td>No</td>\n",
       "      <td>12</td>\n",
       "      <td>Thursday</td>\n",
       "      <td>2</td>\n",
       "      <td>47.0</td>\n",
       "    </tr>\n",
       "    <tr>\n",
       "      <th>3</th>\n",
       "      <td>36490</td>\n",
       "      <td>6638</td>\n",
       "      <td>Subscriber</td>\n",
       "      <td>Other</td>\n",
       "      <td>No</td>\n",
       "      <td>17</td>\n",
       "      <td>Thursday</td>\n",
       "      <td>2</td>\n",
       "      <td>30.0</td>\n",
       "    </tr>\n",
       "    <tr>\n",
       "      <th>4</th>\n",
       "      <td>1585</td>\n",
       "      <td>4898</td>\n",
       "      <td>Subscriber</td>\n",
       "      <td>Male</td>\n",
       "      <td>Yes</td>\n",
       "      <td>23</td>\n",
       "      <td>Thursday</td>\n",
       "      <td>2</td>\n",
       "      <td>45.0</td>\n",
       "    </tr>\n",
       "  </tbody>\n",
       "</table>\n",
       "</div>"
      ],
      "text/plain": [
       "   duration_sec bike_id   user_type member_gender bike_share_for_all_trip  \\\n",
       "0         52185    4902    Customer          Male                      No   \n",
       "1         42521    2535    Customer          Male                      No   \n",
       "2         61854    5905    Customer          Male                      No   \n",
       "3         36490    6638  Subscriber         Other                      No   \n",
       "4          1585    4898  Subscriber          Male                     Yes   \n",
       "\n",
       "   start_hour start_day  start_month  member_age  \n",
       "0          17  Thursday            2        35.0  \n",
       "1          18  Thursday            2        31.0  \n",
       "2          12  Thursday            2        47.0  \n",
       "3          17  Thursday            2        30.0  \n",
       "4          23  Thursday            2        45.0  "
      ]
     },
     "execution_count": 67,
     "metadata": {},
     "output_type": "execute_result"
    }
   ],
   "source": [
    "#4-calculating member age from birth year\n",
    "df['member_age']=2019 - df['member_birth_year']\n",
    "#drop start time and member birth year column because we will not use \n",
    "df=df.drop('start_time',axis=1)\n",
    "df=df.drop('member_birth_year',axis=1)\n",
    "#showing new columns\n",
    "print(df.shape)\n",
    "print(df.info())\n",
    "df.head()"
   ]
  },
  {
   "cell_type": "code",
   "execution_count": 68,
   "metadata": {},
   "outputs": [],
   "source": [
    "#convert start day into ordered categorical type\n",
    "days=['Monday','Tuesday','Wednesday','Thursday','Friday','Saturday','Sunday']\n",
    "days_ordered=pd.api.types.CategoricalDtype(ordered = True,categories=days) \n",
    "df['start_day']=df['start_day'].astype(days_ordered)                                                             "
   ]
  },
  {
   "cell_type": "markdown",
   "metadata": {},
   "source": [
    "### What is the structure of your dataset?\n",
    "\n",
    "> the dataset contains 183412 trip with 9 features vary from the following :   \n",
    "1-numeric variables such as duration,start hour and member age       \n",
    "2-cateogrical variables such as user type,member gender and start day   \n",
    "\n",
    "\n",
    "### What is/are the main feature(s) of interest in your dataset?\n",
    "\n",
    "> I'm most interested in figuring out what features are most affect   \n",
    "number and duration of the trips in the dataset\n",
    "\n",
    "### What features in the dataset do you think will help support your investigation into your feature(s) of interest?\n",
    "\n",
    "> I expect that:  \n",
    "1-start hour     \n",
    "2-start day   \n",
    "3-start month  \n",
    "4-user type   \n",
    "5-member age   \n",
    "6-gender   \n"
   ]
  },
  {
   "cell_type": "markdown",
   "metadata": {},
   "source": [
    "## Univariate Exploration\n",
    "\n",
    "> In this section, investigate distributions of individual variables. If\n",
    "you see unusual points or outliers, take a deeper look to clean things up\n",
    "and prepare yourself to look at relationships between variables."
   ]
  },
  {
   "cell_type": "markdown",
   "metadata": {},
   "source": [
    "I'll start by looking at the distribution of the main variable of interest: duration of trip"
   ]
  },
  {
   "cell_type": "markdown",
   "metadata": {},
   "source": [
    "> Make sure that, after every plot or related series of plots, that you\n",
    "include a Markdown cell with comments about what you observed, and what\n",
    "you plan on investigating next."
   ]
  },
  {
   "cell_type": "code",
   "execution_count": 71,
   "metadata": {},
   "outputs": [
    {
     "data": {
      "image/png": "[encoded data removed]",
      "text/plain": [
       "<Figure size 576x360 with 1 Axes>"
      ]
     },
     "metadata": {
      "needs_background": "light"
     },
     "output_type": "display_data"
    }
   ],
   "source": [
    "#plot histogram for duration of trip as it is a numeric variable\n",
    "#so the histogram is the best choice\n",
    "binsize = 17\n",
    "bins = np.arange(0, df['duration_sec'].max()+binsize, binsize)\n",
    "plt.figure(figsize=[8, 5])\n",
    "plt.hist(data = df, x = 'duration_sec', bins = bins)\n",
    "plt.xlabel('Duration(sec)')\n",
    "plt.xlim(0, 8000)\n",
    "plt.axvline(x=1800, color = \"red\")\n",
    "plt.show()"
   ]
  },
  {
   "cell_type": "code",
   "execution_count": 73,
   "metadata": {},
   "outputs": [
    {
     "name": "stdout",
     "output_type": "stream",
     "text": [
      "percetage of durations which less than half an hour is: \n",
      " 96.3\n",
      "percetage of durations which more than one hour is: \n",
      " 0.9\n"
     ]
    }
   ],
   "source": [
    "#1-percetage of durations which less than half an hour\n",
    "print('percetage of durations which less than half an hour is: \\n',round((df['duration_sec']<= 1800).mean()*100,1))\n",
    "#2-percetage of durations which more than one hour\n",
    "print('percetage of durations which more than one hour is: \\n',round((df['duration_sec']> 3600).mean()*100,1))"
   ]
  },
  {
   "cell_type": "markdown",
   "metadata": {},
   "source": [
    ">1-duration of trip has a right skewed distribution so the duration of the             trips is increased    \n",
    " 2-most of trip duration is less than 1800 seconds (half an hour) with 96.3%      \n",
    " 3-there are too few trips which durations are more than 3600 seconds(1hour)            with 0.9%       \n",
    "   so there are outliers should be removed for better analysis "
   ]
  },
  {
   "cell_type": "code",
   "execution_count": 75,
   "metadata": {},
   "outputs": [
    {
     "data": {
      "text/plain": [
       "(181702, 9)"
      ]
     },
     "execution_count": 75,
     "metadata": {},
     "output_type": "execute_result"
    }
   ],
   "source": [
    "#keep only trips which less or equal one hour\n",
    "df2=df[df['duration_sec']<=3600]\n",
    "df2.shape"
   ]
  },
  {
   "cell_type": "code",
   "execution_count": 76,
   "metadata": {},
   "outputs": [
    {
     "data": {
      "image/png": "[encoded data removed]",
      "text/plain": [
       "<Figure size 576x360 with 1 Axes>"
      ]
     },
     "metadata": {
      "needs_background": "light"
     },
     "output_type": "display_data"
    }
   ],
   "source": [
    "#replot the histogram afte deleting outliers\n",
    "binsize = 20\n",
    "bins = np.arange(0, df2['duration_sec'].max()+binsize, binsize)\n",
    "plt.figure(figsize=[8, 5])\n",
    "plt.hist(data = df2, x = 'duration_sec', bins = bins)\n",
    "plt.xlabel('Duration(sec)')\n",
    "plt.xlim(60, 3600)\n",
    "plt.axvline(x=1800, color = \"red\")\n",
    "plt.show()"
   ]
  },
  {
   "cell_type": "markdown",
   "metadata": {},
   "source": [
    ">1-duration of trip has a right skewed distribution so the duration of the             trips is increased    \n",
    " 2-most of trips durations are less than 1800 seconds (half an hour)       \n"
   ]
  },
  {
   "cell_type": "markdown",
   "metadata": {},
   "source": [
    "Next up,we will look at the second numeric variable member age and see its distribution"
   ]
  },
  {
   "cell_type": "code",
   "execution_count": 77,
   "metadata": {
    "scrolled": true
   },
   "outputs": [
    {
     "data": {
      "image/png": "[encoded data removed]",
      "text/plain": [
       "<Figure size 576x360 with 1 Axes>"
      ]
     },
     "metadata": {
      "needs_background": "light"
     },
     "output_type": "display_data"
    }
   ],
   "source": [
    "#plot histogram for member age as it is a numeric variable\n",
    "binsize =2\n",
    "bins = np.arange(0, df['member_age'].max()+binsize, binsize)\n",
    "plt.figure(figsize=[8, 5])\n",
    "plt.hist(data = df, x = 'member_age', bins = bins)\n",
    "plt.xlabel('Member Age(year)')\n",
    "plt.xlim(20, 140)\n",
    "plt.axvline(x=45, color = \"red\")\n",
    "plt.show()"
   ]
  },
  {
   "cell_type": "code",
   "execution_count": 78,
   "metadata": {},
   "outputs": [
    {
     "name": "stdout",
     "output_type": "stream",
     "text": [
      "percetage of ages  which less than or equal 45 years old is: \n",
      " 87.0\n",
      "percetage of ages  which more than  80 years old is: \n",
      " 0.1\n"
     ]
    }
   ],
   "source": [
    "#percetage of ages  which less than or equal 45 years old\n",
    "print('percetage of ages  which less than or equal 45 years old is: \\n',round((df2['member_age']<=45).mean()*100,1))\n",
    "#percetage of ages  which more than  80 years old\n",
    "print('percetage of ages  which more than  80 years old is: \\n',round((df2['member_age']>80).mean()*100,1))"
   ]
  },
  {
   "cell_type": "markdown",
   "metadata": {},
   "source": [
    "the distribution of age is right skewed and most ages are \n",
    "between 20 and 45 years old   \n",
    "the most of our population are not retired yet and they are in work or still study   \n",
    "they represent precentage of 87% of all members in our dataset   \n",
    "there are outliers such as age of 141 years"
   ]
  },
  {
   "cell_type": "code",
   "execution_count": 80,
   "metadata": {},
   "outputs": [
    {
     "data": {
      "text/plain": [
       "(181510, 9)"
      ]
     },
     "execution_count": 80,
     "metadata": {},
     "output_type": "execute_result"
    }
   ],
   "source": [
    "#keep only members with ages less than or equal 80 years\n",
    "#because they represent a too small percentage of our population with 0.1%\n",
    "df3=df2[df2[\"member_age\"]<=80]\n",
    "df3.shape"
   ]
  },
  {
   "cell_type": "code",
   "execution_count": 82,
   "metadata": {},
   "outputs": [
    {
     "data": {
      "image/png": "[encoded data removed]",
      "text/plain": [
       "<Figure size 576x360 with 1 Axes>"
      ]
     },
     "metadata": {
      "needs_background": "light"
     },
     "output_type": "display_data"
    }
   ],
   "source": [
    "#replot the histogram after removing outliers\n",
    "binsize =4\n",
    "bins = np.arange(0, df3['member_age'].max()+binsize, binsize)\n",
    "plt.figure(figsize=[8, 5])\n",
    "plt.hist(data = df3, x = 'member_age', bins = bins)\n",
    "plt.xlabel('Member Age(year)')\n",
    "plt.xlim(15,85)\n",
    "plt.axvline(x=45, color = \"red\")\n",
    "plt.show()"
   ]
  },
  {
   "cell_type": "markdown",
   "metadata": {},
   "source": [
    "the distribution of age is right skewed and most ages are \n",
    "between 20 and 45 years old   \n",
    "the most of our population are not retired yet and they are in work or still study   \n"
   ]
  },
  {
   "cell_type": "markdown",
   "metadata": {},
   "source": [
    "I'll now move on to the datetime variables in the dataset:start_hour, start_day and start_month."
   ]
  },
  {
   "cell_type": "code",
   "execution_count": 26,
   "metadata": {},
   "outputs": [
    {
     "data": {
      "image/png": "[encoded data removed]",
      "text/plain": [
       "<Figure size 504x504 with 3 Axes>"
      ]
     },
     "metadata": {
      "needs_background": "light"
     },
     "output_type": "display_data"
    }
   ],
   "source": [
    "# let's plot all three together to get an idea of each ordinal variable's distribution.\n",
    "fig, ax = plt.subplots(nrows=3, figsize = [7,7])\n",
    "default_color = sb.color_palette()[0]\n",
    "sb.countplot(data = df3, x = 'start_hour', color = default_color, ax = ax[0])\n",
    "sb.countplot(data = df3, x = 'start_day', color = default_color, ax = ax[1])\n",
    "sb.countplot(data = df3, x = 'start_month', color = default_color, ax = ax[2])\n",
    "\n",
    "plt.show()"
   ]
  },
  {
   "cell_type": "markdown",
   "metadata": {},
   "source": [
    "most of trips occur in 8 am and 5 pm and this looks normal as the trips numner increase while peole go to thier work or school and go back from these places.  \n",
    "\n",
    "the highest number of trips occurs in days of work in the week such as thursday \n",
    "and the number decreases in weekend days such as saturday and sunday.\n",
    "\n",
    "our trips takeplace only in february so start month have no variation and will not be useful for our analysis for trips number and duration\n"
   ]
  },
  {
   "cell_type": "markdown",
   "metadata": {},
   "source": [
    "finally in the univariate exploration I will look at the categorical variables  in the dataset"
   ]
  },
  {
   "cell_type": "markdown",
   "metadata": {},
   "source": [
    "for better analysis I will divide ages into 3 categories   \n",
    "***youth,adults and seniors***   \n",
    "for better analysis I will divide day based on start hours into 4 categories   ***morning,afternoon,evening and night***\n"
   ]
  },
  {
   "cell_type": "code",
   "execution_count": 83,
   "metadata": {},
   "outputs": [
    {
     "data": {
      "text/plain": [
       "count    181510.000000\n",
       "mean         33.979781\n",
       "std           9.674575\n",
       "min          18.000000\n",
       "25%          27.000000\n",
       "50%          31.000000\n",
       "75%          38.000000\n",
       "max          80.000000\n",
       "Name: member_age, dtype: float64"
      ]
     },
     "execution_count": 83,
     "metadata": {},
     "output_type": "execute_result"
    }
   ],
   "source": [
    "#to determine bins edges for ages\n",
    "df3['member_age'].describe()"
   ]
  },
  {
   "cell_type": "code",
   "execution_count": 84,
   "metadata": {},
   "outputs": [
    {
     "name": "stderr",
     "output_type": "stream",
     "text": [
      "<ipython-input-84-c21b953b78e0>:6: SettingWithCopyWarning: \n",
      "A value is trying to be set on a copy of a slice from a DataFrame.\n",
      "Try using .loc[row_indexer,col_indexer] = value instead\n",
      "\n",
      "See the caveats in the documentation: https://pandas.pydata.org/pandas-docs/stable/user_guide/indexing.html#returning-a-view-versus-a-copy\n",
      "  df3['age_buckets']= pd.cut(df3['member_age'], bin_edges, labels=bin_names)\n"
     ]
    },
    {
     "data": {
      "text/html": [
       "<div>\n",
       "<style scoped>\n",
       "    .dataframe tbody tr th:only-of-type {\n",
       "        vertical-align: middle;\n",
       "    }\n",
       "\n",
       "    .dataframe tbody tr th {\n",
       "        vertical-align: top;\n",
       "    }\n",
       "\n",
       "    .dataframe thead th {\n",
       "        text-align: right;\n",
       "    }\n",
       "</style>\n",
       "<table border=\"1\" class=\"dataframe\">\n",
       "  <thead>\n",
       "    <tr style=\"text-align: right;\">\n",
       "      <th></th>\n",
       "      <th>duration_sec</th>\n",
       "      <th>bike_id</th>\n",
       "      <th>user_type</th>\n",
       "      <th>member_gender</th>\n",
       "      <th>bike_share_for_all_trip</th>\n",
       "      <th>start_hour</th>\n",
       "      <th>start_day</th>\n",
       "      <th>start_month</th>\n",
       "      <th>member_age</th>\n",
       "      <th>age_buckets</th>\n",
       "    </tr>\n",
       "  </thead>\n",
       "  <tbody>\n",
       "    <tr>\n",
       "      <th>4</th>\n",
       "      <td>1585</td>\n",
       "      <td>4898</td>\n",
       "      <td>Subscriber</td>\n",
       "      <td>Male</td>\n",
       "      <td>Yes</td>\n",
       "      <td>23</td>\n",
       "      <td>Thursday</td>\n",
       "      <td>2</td>\n",
       "      <td>45.0</td>\n",
       "      <td>Adults</td>\n",
       "    </tr>\n",
       "    <tr>\n",
       "      <th>5</th>\n",
       "      <td>1793</td>\n",
       "      <td>5200</td>\n",
       "      <td>Subscriber</td>\n",
       "      <td>Male</td>\n",
       "      <td>No</td>\n",
       "      <td>23</td>\n",
       "      <td>Thursday</td>\n",
       "      <td>2</td>\n",
       "      <td>60.0</td>\n",
       "      <td>Adults</td>\n",
       "    </tr>\n",
       "    <tr>\n",
       "      <th>6</th>\n",
       "      <td>1147</td>\n",
       "      <td>3803</td>\n",
       "      <td>Subscriber</td>\n",
       "      <td>Female</td>\n",
       "      <td>No</td>\n",
       "      <td>23</td>\n",
       "      <td>Thursday</td>\n",
       "      <td>2</td>\n",
       "      <td>36.0</td>\n",
       "      <td>Adults</td>\n",
       "    </tr>\n",
       "    <tr>\n",
       "      <th>7</th>\n",
       "      <td>1615</td>\n",
       "      <td>6329</td>\n",
       "      <td>Subscriber</td>\n",
       "      <td>Male</td>\n",
       "      <td>No</td>\n",
       "      <td>23</td>\n",
       "      <td>Thursday</td>\n",
       "      <td>2</td>\n",
       "      <td>30.0</td>\n",
       "      <td>Adults</td>\n",
       "    </tr>\n",
       "    <tr>\n",
       "      <th>8</th>\n",
       "      <td>1570</td>\n",
       "      <td>6548</td>\n",
       "      <td>Subscriber</td>\n",
       "      <td>Other</td>\n",
       "      <td>No</td>\n",
       "      <td>23</td>\n",
       "      <td>Thursday</td>\n",
       "      <td>2</td>\n",
       "      <td>31.0</td>\n",
       "      <td>Adults</td>\n",
       "    </tr>\n",
       "  </tbody>\n",
       "</table>\n",
       "</div>"
      ],
      "text/plain": [
       "   duration_sec bike_id   user_type member_gender bike_share_for_all_trip  \\\n",
       "4          1585    4898  Subscriber          Male                     Yes   \n",
       "5          1793    5200  Subscriber          Male                      No   \n",
       "6          1147    3803  Subscriber        Female                      No   \n",
       "7          1615    6329  Subscriber          Male                      No   \n",
       "8          1570    6548  Subscriber         Other                      No   \n",
       "\n",
       "   start_hour start_day  start_month  member_age age_buckets  \n",
       "4          23  Thursday            2        45.0      Adults  \n",
       "5          23  Thursday            2        60.0      Adults  \n",
       "6          23  Thursday            2        36.0      Adults  \n",
       "7          23  Thursday            2        30.0      Adults  \n",
       "8          23  Thursday            2        31.0      Adults  "
      ]
     },
     "execution_count": 84,
     "metadata": {},
     "output_type": "execute_result"
    }
   ],
   "source": [
    "#Bin edges that will be used to cut our dataset into groups\n",
    "bin_edges=[18,27,60,78]\n",
    "# Labels for the three age buckets in our dataset\n",
    "bin_names=['Youth','Adults','Seniors']\n",
    "#create age bucketscolumn \n",
    "df3['age_buckets']= pd.cut(df3['member_age'], bin_edges, labels=bin_names)\n",
    "#check for successful of creating age buckets column\n",
    "df3.head(5)"
   ]
  },
  {
   "cell_type": "code",
   "execution_count": 89,
   "metadata": {},
   "outputs": [
    {
     "name": "stderr",
     "output_type": "stream",
     "text": [
      "<ipython-input-89-7c0ae5e6f075>:7: SettingWithCopyWarning: \n",
      "A value is trying to be set on a copy of a slice from a DataFrame.\n",
      "Try using .loc[row_indexer,col_indexer] = value instead\n",
      "\n",
      "See the caveats in the documentation: https://pandas.pydata.org/pandas-docs/stable/user_guide/indexing.html#returning-a-view-versus-a-copy\n",
      "  df3['day_parts']= pd.cut(df3['start_hour'], bin_edges, labels=bin_names)\n"
     ]
    },
    {
     "data": {
      "text/html": [
       "<div>\n",
       "<style scoped>\n",
       "    .dataframe tbody tr th:only-of-type {\n",
       "        vertical-align: middle;\n",
       "    }\n",
       "\n",
       "    .dataframe tbody tr th {\n",
       "        vertical-align: top;\n",
       "    }\n",
       "\n",
       "    .dataframe thead th {\n",
       "        text-align: right;\n",
       "    }\n",
       "</style>\n",
       "<table border=\"1\" class=\"dataframe\">\n",
       "  <thead>\n",
       "    <tr style=\"text-align: right;\">\n",
       "      <th></th>\n",
       "      <th>duration_sec</th>\n",
       "      <th>bike_id</th>\n",
       "      <th>user_type</th>\n",
       "      <th>member_gender</th>\n",
       "      <th>bike_share_for_all_trip</th>\n",
       "      <th>start_hour</th>\n",
       "      <th>start_day</th>\n",
       "      <th>start_month</th>\n",
       "      <th>member_age</th>\n",
       "      <th>age_buckets</th>\n",
       "      <th>day_parts</th>\n",
       "    </tr>\n",
       "  </thead>\n",
       "  <tbody>\n",
       "    <tr>\n",
       "      <th>183407</th>\n",
       "      <td>480</td>\n",
       "      <td>4832</td>\n",
       "      <td>Subscriber</td>\n",
       "      <td>Male</td>\n",
       "      <td>No</td>\n",
       "      <td>0</td>\n",
       "      <td>Friday</td>\n",
       "      <td>2</td>\n",
       "      <td>23.0</td>\n",
       "      <td>Youth</td>\n",
       "      <td>Night</td>\n",
       "    </tr>\n",
       "    <tr>\n",
       "      <th>183408</th>\n",
       "      <td>313</td>\n",
       "      <td>4960</td>\n",
       "      <td>Subscriber</td>\n",
       "      <td>Male</td>\n",
       "      <td>No</td>\n",
       "      <td>0</td>\n",
       "      <td>Friday</td>\n",
       "      <td>2</td>\n",
       "      <td>35.0</td>\n",
       "      <td>Adults</td>\n",
       "      <td>Night</td>\n",
       "    </tr>\n",
       "    <tr>\n",
       "      <th>183409</th>\n",
       "      <td>141</td>\n",
       "      <td>3824</td>\n",
       "      <td>Subscriber</td>\n",
       "      <td>Male</td>\n",
       "      <td>Yes</td>\n",
       "      <td>0</td>\n",
       "      <td>Friday</td>\n",
       "      <td>2</td>\n",
       "      <td>29.0</td>\n",
       "      <td>Adults</td>\n",
       "      <td>Night</td>\n",
       "    </tr>\n",
       "    <tr>\n",
       "      <th>183410</th>\n",
       "      <td>139</td>\n",
       "      <td>5095</td>\n",
       "      <td>Subscriber</td>\n",
       "      <td>Male</td>\n",
       "      <td>No</td>\n",
       "      <td>0</td>\n",
       "      <td>Friday</td>\n",
       "      <td>2</td>\n",
       "      <td>31.0</td>\n",
       "      <td>Adults</td>\n",
       "      <td>Night</td>\n",
       "    </tr>\n",
       "    <tr>\n",
       "      <th>183411</th>\n",
       "      <td>271</td>\n",
       "      <td>1057</td>\n",
       "      <td>Subscriber</td>\n",
       "      <td>Male</td>\n",
       "      <td>No</td>\n",
       "      <td>0</td>\n",
       "      <td>Friday</td>\n",
       "      <td>2</td>\n",
       "      <td>30.0</td>\n",
       "      <td>Adults</td>\n",
       "      <td>Night</td>\n",
       "    </tr>\n",
       "  </tbody>\n",
       "</table>\n",
       "</div>"
      ],
      "text/plain": [
       "        duration_sec bike_id   user_type member_gender  \\\n",
       "183407           480    4832  Subscriber          Male   \n",
       "183408           313    4960  Subscriber          Male   \n",
       "183409           141    3824  Subscriber          Male   \n",
       "183410           139    5095  Subscriber          Male   \n",
       "183411           271    1057  Subscriber          Male   \n",
       "\n",
       "       bike_share_for_all_trip  start_hour start_day  start_month  member_age  \\\n",
       "183407                      No           0    Friday            2        23.0   \n",
       "183408                      No           0    Friday            2        35.0   \n",
       "183409                     Yes           0    Friday            2        29.0   \n",
       "183410                      No           0    Friday            2        31.0   \n",
       "183411                      No           0    Friday            2        30.0   \n",
       "\n",
       "       age_buckets day_parts  \n",
       "183407       Youth     Night  \n",
       "183408      Adults     Night  \n",
       "183409      Adults     Night  \n",
       "183410      Adults     Night  \n",
       "183411      Adults     Night  "
      ]
     },
     "execution_count": 89,
     "metadata": {},
     "output_type": "execute_result"
    }
   ],
   "source": [
    "#Bin edges that will be used to cut our dataset into groups\n",
    "#value of (-1) to ensure including 0(12 am)hour included in the groups\n",
    "bin_edges=[-1,5,12,18,23]\n",
    "# Labels for the four day parts in our dataset\n",
    "bin_names=['Night','Morning','Afternoon','Evening']\n",
    "#create day parts column \n",
    "df3['day_parts']= pd.cut(df3['start_hour'], bin_edges, labels=bin_names)\n",
    "#check for successful of creating day parts column\n",
    "df3.tail()"
   ]
  },
  {
   "cell_type": "code",
   "execution_count": 90,
   "metadata": {},
   "outputs": [
    {
     "name": "stderr",
     "output_type": "stream",
     "text": [
      "<ipython-input-90-e682532b8618>:8: SettingWithCopyWarning: \n",
      "A value is trying to be set on a copy of a slice from a DataFrame.\n",
      "Try using .loc[row_indexer,col_indexer] = value instead\n",
      "\n",
      "See the caveats in the documentation: https://pandas.pydata.org/pandas-docs/stable/user_guide/indexing.html#returning-a-view-versus-a-copy\n",
      "  df3[col] = df3[col].astype(ordered_col)\n"
     ]
    }
   ],
   "source": [
    "#convert age_buckets and day_parts into ordered categorical types\n",
    "var_dict = {'age_buckets': ['Youth','Adults','Seniors'],\n",
    "            'day_parts': ['Morning', 'Afternoon', 'Evening', 'Night']}\n",
    "                   \n",
    "\n",
    "for col in var_dict:\n",
    "    ordered_col = pd.api.types.CategoricalDtype(ordered = True, categories = var_dict[col])                              \n",
    "    df3[col] = df3[col].astype(ordered_col)"
   ]
  },
  {
   "cell_type": "markdown",
   "metadata": {},
   "source": [
    " I will look at the categorical variable user type in the dataset"
   ]
  },
  {
   "cell_type": "code",
   "execution_count": 91,
   "metadata": {},
   "outputs": [
    {
     "name": "stdout",
     "output_type": "stream",
     "text": [
      "Subscriber    89.6\n",
      "Customer      10.4\n",
      "Name: user_type, dtype: float64\n"
     ]
    },
    {
     "data": {
      "image/png": "[encoded data removed]",
      "text/plain": [
       "<Figure size 360x360 with 1 Axes>"
      ]
     },
     "metadata": {},
     "output_type": "display_data"
    }
   ],
   "source": [
    "#plot pie chart for user type as it is a cateogrical variable with only 2 values\n",
    "user_counts= df3['user_type'].value_counts()\n",
    "print(round(user_counts/df3.shape[0],3)*100)\n",
    "labels ='Subscriber','Customer'\n",
    "sizes=user_counts/df3.shape[0]\n",
    "fig1,ax1 = plt.subplots(figsize = [5,5])\n",
    "ax1.pie(sizes,labels=labels, autopct='%1.1f%%', startangle=90)    \n",
    "plt.show()"
   ]
  },
  {
   "cell_type": "markdown",
   "metadata": {},
   "source": [
    "most of trips are made by  subscriber members with percentage of 89.6%   \n",
    "while customers made only 10.4% of all trips  \n",
    "\n"
   ]
  },
  {
   "cell_type": "markdown",
   "metadata": {},
   "source": [
    "I will look at the categorical variable member gender in the dataset"
   ]
  },
  {
   "cell_type": "code",
   "execution_count": 92,
   "metadata": {},
   "outputs": [
    {
     "name": "stdout",
     "output_type": "stream",
     "text": [
      "Male      75.76\n",
      "Female    22.27\n",
      "Other      1.97\n",
      "Name: member_gender, dtype: float64\n"
     ]
    },
    {
     "data": {
      "image/png": "[encoded data removed]",
      "text/plain": [
       "<Figure size 432x432 with 1 Axes>"
      ]
     },
     "metadata": {},
     "output_type": "display_data"
    }
   ],
   "source": [
    "#plot pie chart for member gender as it is a cateogrical variable with only 3 values\n",
    "gender_counts= df3['member_gender'].value_counts()\n",
    "print(round(gender_counts/df3.shape[0],4)*100)\n",
    "labels ='Male','Female','Other'\n",
    "sizes=gender_counts/df3.shape[0]\n",
    "fig1,ax1 = plt.subplots(figsize = [6,6])\n",
    "ax1.pie(sizes,labels=labels, autopct='%1.2f%%', startangle=90) \n",
    "plt.show()"
   ]
  },
  {
   "cell_type": "markdown",
   "metadata": {},
   "source": [
    "most of trips are made by  males members with percentage of 75.76%      \n",
    "while females made  22.27% of all trips and others made only 1.97% of all trips"
   ]
  },
  {
   "cell_type": "markdown",
   "metadata": {},
   "source": [
    "I will look at the categorical variable age buckets in the dataset"
   ]
  },
  {
   "cell_type": "code",
   "execution_count": 99,
   "metadata": {},
   "outputs": [
    {
     "name": "stdout",
     "output_type": "stream",
     "text": [
      "Adults     71.8\n",
      "Youth      26.4\n",
      "Seniors     1.8\n",
      "Name: age_buckets, dtype: float64\n"
     ]
    },
    {
     "name": "stderr",
     "output_type": "stream",
     "text": [
      "<ipython-input-99-aaa8eeb37a8a>:7: MatplotlibDeprecationWarning: normalize=None does not normalize if the sum is less than 1 but this behavior is deprecated since 3.3 until two minor releases later. After the deprecation period the default value will be normalize=True. To prevent normalization pass normalize=False \n",
      "  ax1.pie(sizes,labels=labels, autopct='%1.1f%%', startangle=90)\n"
     ]
    },
    {
     "data": {
      "image/png": "[encoded data removed]",
      "text/plain": [
       "<Figure size 432x432 with 1 Axes>"
      ]
     },
     "metadata": {},
     "output_type": "display_data"
    }
   ],
   "source": [
    "#plot pie chart for age buckets as it is a cateogrical variable with only 3 values\n",
    "age_buckets_counts= df3['age_buckets'].value_counts()\n",
    "print(round(age_buckets_counts/df3.shape[0],3)*100)\n",
    "labels ='Adults','Youth','Seniors'\n",
    "sizes=age_buckets_counts/df3.shape[0]\n",
    "fig1,ax1 = plt.subplots(figsize = [6,6])\n",
    "ax1.pie(sizes,labels=labels, autopct='%1.1f%%', startangle=90) \n",
    "plt.show()"
   ]
  },
  {
   "cell_type": "markdown",
   "metadata": {},
   "source": [
    "most of trips are made by adults which ages between(27-60) with percentage of 71.8%      \n",
    "while youth which ages between(18-26) made 26.4% of all trips   \n",
    "and seniors which ages more than 60 years old only made 1.8% of all trips"
   ]
  },
  {
   "cell_type": "markdown",
   "metadata": {},
   "source": [
    "I will look at the last categorical variable in my analysis day parts in the dataset"
   ]
  },
  {
   "cell_type": "code",
   "execution_count": 100,
   "metadata": {},
   "outputs": [
    {
     "data": {
      "text/plain": [
       "<AxesSubplot:xlabel='day_parts', ylabel='count'>"
      ]
     },
     "execution_count": 100,
     "metadata": {},
     "output_type": "execute_result"
    },
    {
     "data": {
      "image/png": "[encoded data removed]",
      "text/plain": [
       "<Figure size 432x288 with 1 Axes>"
      ]
     },
     "metadata": {
      "needs_background": "light"
     },
     "output_type": "display_data"
    }
   ],
   "source": [
    "default_color = sb.color_palette()[0]\n",
    "sb.countplot(data = df3, x = 'day_parts', color = default_color)"
   ]
  },
  {
   "cell_type": "markdown",
   "metadata": {},
   "source": [
    "most of our trips are made in morning(6 am - 12 pm) and afternoon(1 pm-6 pm)  \n",
    "as they the parts of day which people go and leave thier work and schools   \n",
    " a few number of trips made at night part (12 am-5 am)as people go to sleep "
   ]
  },
  {
   "cell_type": "markdown",
   "metadata": {},
   "source": [
    "### Discuss the distribution(s) of your variable(s) of interest. Were there any unusual points? Did you need to perform any transformations?\n",
    "\n",
    ">1-duration of trip has a right skewed distribution so the duration of the             trips is increased    \n",
    " 2-most of trip duration is less than 1800 seconds (half an hour) with 96.3%      \n",
    " 3-there are too few trips which durations are more than 3600 seconds(one hour)            with 0.9%       \n",
    "   ***so there are outliers which are trips more than one hour***    \n",
    " 4- I do not any transformtion\n",
    "\n",
    "### Of the features you investigated, were there any unusual distributions? Did you perform any operations on the data to tidy, adjust, or change the form of the data? If so, why did you do this?\n",
    ">1- I deal with missing data in columns of member gender and birth yeal by         filling them with the mode to avoid delete them\n",
    "\n",
    ">2-I change the data type of start time to be a datetime for better analysis to    show effect of time change in number and duration of trips on hours , days      and months levels so I add 3 columns for them to the data\n",
    "\n",
    ">3-I add 2 columns to data one for age buckets to show change in number of        trips based on ages in the aggregate level   \n",
    "  the other for parts of day to show change in number of trips based on hour in   the aggregate level   \n",
    "\n",
    ">4-the conclusion from the univariate exploration :-\n",
    "\n",
    "  >a-the distribution of age is right skewed and most ages are between 20 and     45  years old there are outliers such as age of 141 years old      \n",
    "  so I remove ages which more than 80 years old as they only represent .1% for   better analysis                                                                          \n",
    "\n",
    "  >b-most of trips occur in 8 am and 5 pm and this looks normal as the trips     numner increase while people go to thier work or school and go back from       these places.                                                                          \n",
    "\n",
    "  >c-the highest number of trips occurs in days of work in the week such as       thursday and the number of trips decreases in weekend days such as saturday     andsunday.                                                                        \n",
    "  >d-our trips takeplace only in february so start month have no variation and    will not be useful for our analysis for trips number and duration                    \n",
    "\n",
    "  >e-most of trips are made by subscriber members with percentage of 89.6%   \n",
    "   while customers made only 10.4% of all trips                                     \n",
    "\n",
    "  >f-most of trips are made by  males members with percentage of 75.76%      \n",
    "   while females made  22.27% of all trips and others made only 1.97% of trips \n",
    "\n",
    "  >g-most of trips are made by adults which ages between(27-60) with percentage    of 75.76% while youth which ages between(18-26) made 26.4% of all trips     \n",
    "   and eniors which ages more than 60 years old only made 1.8% of all trips\n",
    "   \n",
    "   \n",
    " >h-most of our trips are made in morning(6 am-12 pm) and afternoon(1 pm-6 pm)\n",
    "   as they the parts of day which people go and leave thier work and schools   \n",
    "   a few number of trips made at night part (12 am-5 am)as people go to sleep. \n",
    "   "
   ]
  },
  {
   "cell_type": "markdown",
   "metadata": {},
   "source": [
    "## Bivariate Exploration\n",
    "\n",
    "> In this section, investigate relationships between pairs of variables in your\n",
    "data. Make sure the variables that you cover here have been introduced in some\n",
    "fashion in the previous section (univariate exploration)."
   ]
  },
  {
   "cell_type": "markdown",
   "metadata": {},
   "source": [
    "To start off I will look at the pairwise correlations present between features in the data."
   ]
  },
  {
   "cell_type": "code",
   "execution_count": 33,
   "metadata": {},
   "outputs": [],
   "source": [
    "numeric_vars = ['duration_sec', 'start_hour','member_age']\n",
    "categoric_vars = ['user_type','member_gender','start_day','day_parts','age_buckets']"
   ]
  },
  {
   "cell_type": "code",
   "execution_count": 34,
   "metadata": {},
   "outputs": [
    {
     "data": {
      "image/png": "[encoded data removed]",
      "text/plain": [
       "<Figure size 576x360 with 2 Axes>"
      ]
     },
     "metadata": {
      "needs_background": "light"
     },
     "output_type": "display_data"
    }
   ],
   "source": [
    "# correlation plot\n",
    "plt.figure(figsize = [8, 5])\n",
    "sb.heatmap(df3[numeric_vars].corr(), annot = True, fmt = '.2f',\n",
    "           cmap = 'vlag_r', center = 0)\n",
    "plt.show()"
   ]
  },
  {
   "cell_type": "markdown",
   "metadata": {},
   "source": [
    "the numeric variable has a week relationship with our variable of interest "
   ]
  },
  {
   "cell_type": "markdown",
   "metadata": {},
   "source": [
    "Let's move on to looking at how duration correlate with the categorical variables    \n",
    "with first member gender"
   ]
  },
  {
   "cell_type": "code",
   "execution_count": 119,
   "metadata": {},
   "outputs": [
    {
     "data": {
      "image/png": "[encoded data removed]",
      "text/plain": [
       "<Figure size 1600x800 with 1 Axes>"
      ]
     },
     "metadata": {
      "needs_background": "light"
     },
     "output_type": "display_data"
    }
   ],
   "source": [
    "plt.figure(figsize = (8,4), dpi = 200)\n",
    "\n",
    "sb.boxplot(data = df3, x = \"member_gender\", y = \"duration_sec\")\n",
    "plt.xlabel('member gender ');\n",
    "plt.ylabel('trip duration(sec)');\n",
    "plt.show()"
   ]
  },
  {
   "cell_type": "markdown",
   "metadata": {},
   "source": [
    "males make faster trips than females and others so the average trip duration of males is less than females and others    \n",
    "although the males have made the most trips as discussed in univariate exploration"
   ]
  },
  {
   "cell_type": "markdown",
   "metadata": {},
   "source": [
    "now we looking at how duration correlate with user type variable"
   ]
  },
  {
   "cell_type": "code",
   "execution_count": 121,
   "metadata": {},
   "outputs": [
    {
     "data": {
      "image/png": "[encoded data removed]",
      "text/plain": [
       "<Figure size 800x400 with 1 Axes>"
      ]
     },
     "metadata": {
      "needs_background": "light"
     },
     "output_type": "display_data"
    }
   ],
   "source": [
    "plt.figure(figsize = (8,4), dpi = 100)\n",
    "\n",
    "sb.boxplot(data = df3, x = \"user_type\", y = \"duration_sec\")\n",
    "plt.xlabel('user type ');\n",
    "plt.ylabel('trip duration(sec)');\n",
    "plt.show()"
   ]
  },
  {
   "cell_type": "markdown",
   "metadata": {},
   "source": [
    "customers making long trips than subscribers as they make a trip for a special task   \n",
    "although subscribers have made the most trips as discussed in univariate exploration"
   ]
  },
  {
   "cell_type": "markdown",
   "metadata": {},
   "source": [
    "now we looking at how duration correlate with day of week variable"
   ]
  },
  {
   "cell_type": "code",
   "execution_count": 37,
   "metadata": {},
   "outputs": [
    {
     "data": {
      "image/png": "[encoded data removed]",
      "text/plain": [
       "<Figure size 800x400 with 1 Axes>"
      ]
     },
     "metadata": {
      "needs_background": "light"
     },
     "output_type": "display_data"
    }
   ],
   "source": [
    "plt.figure(figsize = (8,4), dpi = 100)\n",
    "\n",
    "sb.boxplot(data = df3, x = \"start_day\", y = \"duration_sec\")\n",
    "plt.xlabel('day of week');\n",
    "plt.ylabel('trip duration in seconds');\n",
    "plt.show()"
   ]
  },
  {
   "cell_type": "markdown",
   "metadata": {},
   "source": [
    "long trips occur in weekend days such as saturday and sunday as people go for entertainment\n",
    "although most trips occur in work days such as thursday as discussed in univariate exploration"
   ]
  },
  {
   "cell_type": "markdown",
   "metadata": {},
   "source": [
    "now we looking at how duration correlate with parts of day variable"
   ]
  },
  {
   "cell_type": "code",
   "execution_count": 126,
   "metadata": {},
   "outputs": [
    {
     "data": {
      "image/png": "[encoded data removed]",
      "text/plain": [
       "<Figure size 800x400 with 1 Axes>"
      ]
     },
     "metadata": {
      "needs_background": "light"
     },
     "output_type": "display_data"
    }
   ],
   "source": [
    "plt.figure(figsize = (8,4), dpi = 100)\n",
    "\n",
    "sb.boxplot(data = df3, x = 'day_parts', y = \"duration_sec\")\n",
    "plt.xlabel('part of day');\n",
    "plt.ylabel('trip duration(sec)');\n",
    "plt.show()"
   ]
  },
  {
   "cell_type": "markdown",
   "metadata": {},
   "source": [
    "long trips occur in morning and afternoon part of day as people go and back from thier work and school     \n",
    "and most trips occur in win morning and afternoon part of day as discussed in univariate exploration"
   ]
  },
  {
   "cell_type": "markdown",
   "metadata": {},
   "source": [
    "now we looking at how duration correlate with age buckets variable"
   ]
  },
  {
   "cell_type": "code",
   "execution_count": 128,
   "metadata": {},
   "outputs": [
    {
     "data": {
      "image/png": "[encoded data removed]",
      "text/plain": [
       "<Figure size 800x400 with 1 Axes>"
      ]
     },
     "metadata": {
      "needs_background": "light"
     },
     "output_type": "display_data"
    }
   ],
   "source": [
    "plt.figure(figsize = (8,4), dpi = 100)\n",
    "\n",
    "sb.boxplot(data = df3, x = \"age_buckets\", y = \"duration_sec\")\n",
    "plt.xlabel('age buckets');\n",
    "plt.ylabel('trip duration(sec)');\n",
    "plt.show()"
   ]
  },
  {
   "cell_type": "markdown",
   "metadata": {},
   "source": [
    "long trips are made by seniors then adults and shortest trips made by youth   \n",
    "as the level of fittness of youth is higher than adults and seniors       \n",
    "although most trips are made by adults as discussed in univariate exploration"
   ]
  },
  {
   "cell_type": "markdown",
   "metadata": {},
   "source": [
    "Finally let's look at relationships between the three categorical features"
   ]
  },
  {
   "cell_type": "code",
   "execution_count": 40,
   "metadata": {},
   "outputs": [
    {
     "data": {
      "image/png": "[encoded data removed]",
      "text/plain": [
       "<Figure size 576x576 with 3 Axes>"
      ]
     },
     "metadata": {
      "needs_background": "light"
     },
     "output_type": "display_data"
    }
   ],
   "source": [
    "# since there's only three subplots to create, using the full data should be fine.\n",
    "plt.figure(figsize = [8, 8])\n",
    "\n",
    "# subplot 1: day of week vs user type\n",
    "plt.subplot(3, 1, 1)\n",
    "sb.countplot(data= df3, x = 'start_day', hue = 'user_type', palette = 'Blues')\n",
    "\n",
    "# subplot 2: day of week vs member gender\n",
    "ax = plt.subplot(3, 1, 2)\n",
    "sb.countplot(data= df3, x = 'start_day', hue = 'member_gender', palette = 'Blues')\n",
    "ax.legend(ncol = 2) # re-arrange legend to reduce overlapping\n",
    "\n",
    "# subplot 3: member gender vs user type, use different color palette\n",
    "ax = plt.subplot(3, 1, 3)\n",
    "sb.countplot(data= df3, x = 'member_gender', hue = 'user_type', palette = 'Greens')\n",
    "ax.legend(loc = 1, ncol = 2) \n",
    "plt.show()"
   ]
  },
  {
   "cell_type": "markdown",
   "metadata": {},
   "source": [
    "most of trips are made by subscribers in all day of week    \n",
    "most of trips are made by males in all day of week   \n",
    "the most of genders are subscribers members    "
   ]
  },
  {
   "cell_type": "markdown",
   "metadata": {},
   "source": [
    "### Talk about some of the relationships you observed in this part of the investigation. How did the feature(s) of interest vary with other features in the dataset?\n",
    "\n",
    ">1-there is a relationship between trip duration(feature of interest)and             gender     \n",
    "    males make faster trips than females and others so the average trip             duration of males is less than females and others\n",
    "    \n",
    " >2-there is a relationship between trip duration(feature of interest)and             user type   \n",
    "    customers making long trips than subscribers as they make a trip for a         special task\n",
    " >3-there is a relationship between trip duration(feature of interest)and day    of week   \n",
    "    long trips occur in weekend days such as saturday and sunday as people go       for entertainment   \n",
    "    \n",
    "  >4-there is a relationship between trip duration(feature of interest)and part of day \n",
    "     long trips occur in morning and afternoon part of day as people go and back from thier work and school\n",
    "     \n",
    "  >5-there is a relationship between trip duration(feature of interest)and age buckets long trips are made by seniors then adults and shortest trips made by youth\n",
    "as the level of fittness of youth is higher than adults and seniors\n",
    "\n",
    "\n",
    "### Did you observe any interesting relationships between the other features (not the main feature(s) of interest)?\n",
    "\n",
    "> there is a relationship between categorical variables such as   \n",
    "  1-most of trips are made by subscribers in all day of week   \n",
    "2-most of trips are made by males in all day of week   \n",
    "3-the most of genders are subscribers members   "
   ]
  },
  {
   "cell_type": "markdown",
   "metadata": {},
   "source": [
    "## Multivariate Exploration\n",
    "\n",
    "> Create plots of three or more variables to investigate your data even\n",
    "further. Make sure that your investigations are justified, and follow from\n",
    "your work in the previous sections."
   ]
  },
  {
   "cell_type": "markdown",
   "metadata": {},
   "source": [
    "first I will look the effect of day parts accorrding to user type on the trip duration"
   ]
  },
  {
   "cell_type": "code",
   "execution_count": 166,
   "metadata": {},
   "outputs": [
    {
     "data": {
      "image/png": "[encoded data removed]",
      "text/plain": [
       "<Figure size 504x504 with 1 Axes>"
      ]
     },
     "metadata": {
      "needs_background": "light"
     },
     "output_type": "display_data"
    }
   ],
   "source": [
    "plt.figure(figsize = (7,7))\n",
    "sb.boxplot(data = df3, x = \"day_parts\", y = \"duration_sec\", hue='user_type')\n",
    "plt.xlabel('day parts');\n",
    "plt.ylabel('trip duration(sec)')\n",
    "plt.legend(bbox_to_anchor=(1, 1),loc='upper left')\n",
    "plt.title(\"Effect of day parts according to user type on trip duration\")\n",
    "\n",
    "plt.show()"
   ]
  },
  {
   "cell_type": "markdown",
   "metadata": {},
   "source": [
    "we found that long trips occur in morning and afternoon part of the day    \n",
    "and trip duration for customer are more than subscriber member for all parts of day"
   ]
  },
  {
   "cell_type": "markdown",
   "metadata": {},
   "source": [
    "now I am looking at the effect of age buckets according to gender on the trip duration"
   ]
  },
  {
   "cell_type": "code",
   "execution_count": 170,
   "metadata": {},
   "outputs": [
    {
     "data": {
      "image/png": "[encoded data removed]",
      "text/plain": [
       "<Figure size 800x500 with 1 Axes>"
      ]
     },
     "metadata": {
      "needs_background": "light"
     },
     "output_type": "display_data"
    }
   ],
   "source": [
    "plt.figure(figsize = (8,5), dpi = 100)\n",
    "ax = sb.barplot(data = df3, x = 'age_buckets', y = 'duration_sec', hue = 'member_gender')\n",
    "ax.legend(loc = 8, ncol = 2, framealpha = 1, title = 'member gender')\n",
    "plt.title(\"Effect of age buckets according to gender on trip duration\");"
   ]
  },
  {
   "cell_type": "markdown",
   "metadata": {},
   "source": [
    "we found that for all age buckets males make the faster trips     \n",
    "and other make the slowest trips    \n",
    "except for youth females make the slowest trips"
   ]
  },
  {
   "cell_type": "markdown",
   "metadata": {},
   "source": [
    "finally I am looking at the effect of day of week according to age buckets on the trip duration"
   ]
  },
  {
   "cell_type": "code",
   "execution_count": 169,
   "metadata": {},
   "outputs": [
    {
     "data": {
      "image/png": "[encoded data removed]",
      "text/plain": [
       "<Figure size 800x500 with 1 Axes>"
      ]
     },
     "metadata": {
      "needs_background": "light"
     },
     "output_type": "display_data"
    }
   ],
   "source": [
    "plt.figure(figsize = (8,5), dpi = 100)\n",
    "ax = sb.barplot(data = df3, x = 'start_day', y = 'duration_sec', hue = 'age_buckets')\n",
    "ax.legend(loc = 8, ncol = 2, framealpha = 1, title = 'age buckets')\n",
    "plt.title(\"Effect of day of week according to age buckets on trip duration\");"
   ]
  },
  {
   "cell_type": "markdown",
   "metadata": {},
   "source": [
    "we found that long trips occur at the weekend days such as saturday and sunday   \n",
    "and for most days  youth trips are faster and adults make slower trips\n",
    "while seniors make the slowest trips    \n",
    "except monday and thursday trips duration of adults and youth are close to each other\n"
   ]
  },
  {
   "cell_type": "markdown",
   "metadata": {},
   "source": [
    "### Talk about some of the relationships you observed in this part of the investigation. Were there features that strengthened each other in terms of looking at your feature(s) of interest?\n",
    "\n",
    ">1-there is a relationship between trip duration(feature of interest)and             day parts accorrding to user type     \n",
    "    long trips occur in morning and afternoon part of the day    \n",
    "and trip duration for customer are more than subscriber member for all parts of day\n",
    "\n",
    ">2-there is a relationship between trip duration(feature of interest)and age buckets according to gender   \n",
    "for all age buckets males make the faster trips     \n",
    "and other make the slowest trips    \n",
    "except for youth females make the slowest trips\n",
    "\n",
    ">3-there is a relationship between trip duration(feature of interest)and day of week according to age buckets\n",
    "long trips occur at the weekend days such as saturday and sunday   \n",
    "and for most days  youth trips are faster and adults make slower trips\n",
    "while seniors make the slowest trips    \n",
    "except monday and thursday trips duration of adults and youth are close to each other\n",
    "\n",
    "\n",
    "### Were there any interesting or surprising interactions between features?\n",
    "\n",
    ">  there's a interesting or surprising interaction between features such as :  \n",
    "day parts and user type on trip duration\n",
    "if we look at the effect of each other a lone we notice that\n",
    "for day parts morning and afternoon have the long trips in all day parts\n",
    "for user type customer have the long trips \n",
    "finally when we look at the effect of the two of them on trips duration \n",
    "***we notice that :***   \n",
    "long trips occur in morning and afternoon part of the day    \n",
    "and trip duration for customer are longer than subscriber member\n",
    "***but the trip duration in morning and afternoon longer than other parts of day for customer***  \n",
    "\n"
   ]
  },
  {
   "cell_type": "code",
   "execution_count": null,
   "metadata": {},
   "outputs": [],
   "source": []
  }
 ],
 "metadata": {
  "kernelspec": {
   "display_name": "Python 3",
   "language": "python",
   "name": "python3"
  },
  "language_info": {
   "codemirror_mode": {
    "name": "ipython",
    "version": 3
   },
   "file_extension": ".py",
   "mimetype": "text/x-python",
   "name": "python",
   "nbconvert_exporter": "python",
   "pygments_lexer": "ipython3",
   "version": "3.8.8"
  }
 },
 "nbformat": 4,
 "nbformat_minor": 2
}
