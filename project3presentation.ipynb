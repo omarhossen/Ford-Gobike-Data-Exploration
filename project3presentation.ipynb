{
 "cells": [
  {
   "cell_type": "markdown",
   "metadata": {
    "slideshow": {
     "slide_type": "slide"
    }
   },
   "source": [
    "# ( Ford Gobike Data Analysis )\n",
    "## by (Omar Reda Hosseny)"
   ]
  },
  {
   "cell_type": "markdown",
   "metadata": {
    "slideshow": {
     "slide_type": "slide"
    }
   },
   "source": [
    "## Investigation Overview\n",
    "\n",
    "> In this presentation, I wanted to look at the characteristics of trips that could be affect trips numbers and duration    \n",
    "The main focus was on start hour,start day of week , member age ,user type and member gender \n",
    "\n",
    "## Dataset Overview\n",
    "\n",
    " > the dataset contains 183412 trip with features vary from trip information such as trip duration and start time      \n",
    "and member information such as birth year, gender,usertype    \n"
   ]
  },
  {
   "cell_type": "code",
   "execution_count": 1,
   "metadata": {
    "slideshow": {
     "slide_type": "skip"
    }
   },
   "outputs": [],
   "source": [
    "# import all packages and set plots to be embedded inline\n",
    "# import all packages and set plots to be embedded inline\n",
    "import numpy as np\n",
    "import pandas as pd\n",
    "import matplotlib.pyplot as plt\n",
    "import seaborn as sb\n",
    "import io\n",
    "import requests\n",
    "\n",
    "%matplotlib inline\n",
    "\n",
    "# suppress warnings from final output\n",
    "import warnings\n",
    "warnings.simplefilter(\"ignore\")"
   ]
  },
  {
   "cell_type": "code",
   "execution_count": 2,
   "metadata": {
    "slideshow": {
     "slide_type": "skip"
    }
   },
   "outputs": [
    {
     "name": "stdout",
     "output_type": "stream",
     "text": [
      "(183412, 16)\n"
     ]
    },
    {
     "data": {
      "text/html": [
       "<div>\n",
       "<style scoped>\n",
       "    .dataframe tbody tr th:only-of-type {\n",
       "        vertical-align: middle;\n",
       "    }\n",
       "\n",
       "    .dataframe tbody tr th {\n",
       "        vertical-align: top;\n",
       "    }\n",
       "\n",
       "    .dataframe thead th {\n",
       "        text-align: right;\n",
       "    }\n",
       "</style>\n",
       "<table border=\"1\" class=\"dataframe\">\n",
       "  <thead>\n",
       "    <tr style=\"text-align: right;\">\n",
       "      <th></th>\n",
       "      <th>duration_sec</th>\n",
       "      <th>start_time</th>\n",
       "      <th>end_time</th>\n",
       "      <th>start_station_id</th>\n",
       "      <th>start_station_name</th>\n",
       "      <th>start_station_latitude</th>\n",
       "      <th>start_station_longitude</th>\n",
       "      <th>end_station_id</th>\n",
       "      <th>end_station_name</th>\n",
       "      <th>end_station_latitude</th>\n",
       "      <th>end_station_longitude</th>\n",
       "      <th>bike_id</th>\n",
       "      <th>user_type</th>\n",
       "      <th>member_birth_year</th>\n",
       "      <th>member_gender</th>\n",
       "      <th>bike_share_for_all_trip</th>\n",
       "    </tr>\n",
       "  </thead>\n",
       "  <tbody>\n",
       "    <tr>\n",
       "      <th>0</th>\n",
       "      <td>52185</td>\n",
       "      <td>2019-02-28 17:32:10.1450</td>\n",
       "      <td>2019-03-01 08:01:55.9750</td>\n",
       "      <td>21.0</td>\n",
       "      <td>Montgomery St BART Station (Market St at 2nd St)</td>\n",
       "      <td>37.789625</td>\n",
       "      <td>-122.400811</td>\n",
       "      <td>13.0</td>\n",
       "      <td>Commercial St at Montgomery St</td>\n",
       "      <td>37.794231</td>\n",
       "      <td>-122.402923</td>\n",
       "      <td>4902</td>\n",
       "      <td>Customer</td>\n",
       "      <td>1984.0</td>\n",
       "      <td>Male</td>\n",
       "      <td>No</td>\n",
       "    </tr>\n",
       "    <tr>\n",
       "      <th>1</th>\n",
       "      <td>42521</td>\n",
       "      <td>2019-02-28 18:53:21.7890</td>\n",
       "      <td>2019-03-01 06:42:03.0560</td>\n",
       "      <td>23.0</td>\n",
       "      <td>The Embarcadero at Steuart St</td>\n",
       "      <td>37.791464</td>\n",
       "      <td>-122.391034</td>\n",
       "      <td>81.0</td>\n",
       "      <td>Berry St at 4th St</td>\n",
       "      <td>37.775880</td>\n",
       "      <td>-122.393170</td>\n",
       "      <td>2535</td>\n",
       "      <td>Customer</td>\n",
       "      <td>NaN</td>\n",
       "      <td>NaN</td>\n",
       "      <td>No</td>\n",
       "    </tr>\n",
       "    <tr>\n",
       "      <th>2</th>\n",
       "      <td>61854</td>\n",
       "      <td>2019-02-28 12:13:13.2180</td>\n",
       "      <td>2019-03-01 05:24:08.1460</td>\n",
       "      <td>86.0</td>\n",
       "      <td>Market St at Dolores St</td>\n",
       "      <td>37.769305</td>\n",
       "      <td>-122.426826</td>\n",
       "      <td>3.0</td>\n",
       "      <td>Powell St BART Station (Market St at 4th St)</td>\n",
       "      <td>37.786375</td>\n",
       "      <td>-122.404904</td>\n",
       "      <td>5905</td>\n",
       "      <td>Customer</td>\n",
       "      <td>1972.0</td>\n",
       "      <td>Male</td>\n",
       "      <td>No</td>\n",
       "    </tr>\n",
       "    <tr>\n",
       "      <th>3</th>\n",
       "      <td>36490</td>\n",
       "      <td>2019-02-28 17:54:26.0100</td>\n",
       "      <td>2019-03-01 04:02:36.8420</td>\n",
       "      <td>375.0</td>\n",
       "      <td>Grove St at Masonic Ave</td>\n",
       "      <td>37.774836</td>\n",
       "      <td>-122.446546</td>\n",
       "      <td>70.0</td>\n",
       "      <td>Central Ave at Fell St</td>\n",
       "      <td>37.773311</td>\n",
       "      <td>-122.444293</td>\n",
       "      <td>6638</td>\n",
       "      <td>Subscriber</td>\n",
       "      <td>1989.0</td>\n",
       "      <td>Other</td>\n",
       "      <td>No</td>\n",
       "    </tr>\n",
       "    <tr>\n",
       "      <th>4</th>\n",
       "      <td>1585</td>\n",
       "      <td>2019-02-28 23:54:18.5490</td>\n",
       "      <td>2019-03-01 00:20:44.0740</td>\n",
       "      <td>7.0</td>\n",
       "      <td>Frank H Ogawa Plaza</td>\n",
       "      <td>37.804562</td>\n",
       "      <td>-122.271738</td>\n",
       "      <td>222.0</td>\n",
       "      <td>10th Ave at E 15th St</td>\n",
       "      <td>37.792714</td>\n",
       "      <td>-122.248780</td>\n",
       "      <td>4898</td>\n",
       "      <td>Subscriber</td>\n",
       "      <td>1974.0</td>\n",
       "      <td>Male</td>\n",
       "      <td>Yes</td>\n",
       "    </tr>\n",
       "  </tbody>\n",
       "</table>\n",
       "</div>"
      ],
      "text/plain": [
       "   duration_sec                start_time                  end_time  \\\n",
       "0         52185  2019-02-28 17:32:10.1450  2019-03-01 08:01:55.9750   \n",
       "1         42521  2019-02-28 18:53:21.7890  2019-03-01 06:42:03.0560   \n",
       "2         61854  2019-02-28 12:13:13.2180  2019-03-01 05:24:08.1460   \n",
       "3         36490  2019-02-28 17:54:26.0100  2019-03-01 04:02:36.8420   \n",
       "4          1585  2019-02-28 23:54:18.5490  2019-03-01 00:20:44.0740   \n",
       "\n",
       "   start_station_id                                start_station_name  \\\n",
       "0              21.0  Montgomery St BART Station (Market St at 2nd St)   \n",
       "1              23.0                     The Embarcadero at Steuart St   \n",
       "2              86.0                           Market St at Dolores St   \n",
       "3             375.0                           Grove St at Masonic Ave   \n",
       "4               7.0                               Frank H Ogawa Plaza   \n",
       "\n",
       "   start_station_latitude  start_station_longitude  end_station_id  \\\n",
       "0               37.789625              -122.400811            13.0   \n",
       "1               37.791464              -122.391034            81.0   \n",
       "2               37.769305              -122.426826             3.0   \n",
       "3               37.774836              -122.446546            70.0   \n",
       "4               37.804562              -122.271738           222.0   \n",
       "\n",
       "                               end_station_name  end_station_latitude  \\\n",
       "0                Commercial St at Montgomery St             37.794231   \n",
       "1                            Berry St at 4th St             37.775880   \n",
       "2  Powell St BART Station (Market St at 4th St)             37.786375   \n",
       "3                        Central Ave at Fell St             37.773311   \n",
       "4                         10th Ave at E 15th St             37.792714   \n",
       "\n",
       "   end_station_longitude  bike_id   user_type  member_birth_year  \\\n",
       "0            -122.402923     4902    Customer             1984.0   \n",
       "1            -122.393170     2535    Customer                NaN   \n",
       "2            -122.404904     5905    Customer             1972.0   \n",
       "3            -122.444293     6638  Subscriber             1989.0   \n",
       "4            -122.248780     4898  Subscriber             1974.0   \n",
       "\n",
       "  member_gender bike_share_for_all_trip  \n",
       "0          Male                      No  \n",
       "1           NaN                      No  \n",
       "2          Male                      No  \n",
       "3         Other                      No  \n",
       "4          Male                     Yes  "
      ]
     },
     "execution_count": 2,
     "metadata": {},
     "output_type": "execute_result"
    }
   ],
   "source": [
    "#load in the dataset into a pandas dataframe and print statistics\n",
    "#load in the dataset into a pandas dataframe and print statistics\n",
    "url=\"https://video.udacity-data.com/topher/2020/October/5f91cf38_201902-fordgobike-tripdata/201902-fordgobike-tripdata.csv\"\n",
    "s=requests.get(url).content\n",
    "df=pd.read_csv(io.StringIO(s.decode('utf-8')))\n",
    "print(df.shape)\n",
    "df.head()"
   ]
  },
  {
   "cell_type": "code",
   "execution_count": 3,
   "metadata": {
    "slideshow": {
     "slide_type": "skip"
    }
   },
   "outputs": [],
   "source": [
    "#change start_time from object to datetime  \n",
    "df['start_time'] = pd.to_datetime(df['start_time'])"
   ]
  },
  {
   "cell_type": "code",
   "execution_count": 4,
   "metadata": {
    "slideshow": {
     "slide_type": "skip"
    }
   },
   "outputs": [
    {
     "name": "stdout",
     "output_type": "stream",
     "text": [
      "<class 'pandas.core.frame.DataFrame'>\n",
      "RangeIndex: 183412 entries, 0 to 183411\n",
      "Data columns (total 16 columns):\n",
      " #   Column                   Non-Null Count   Dtype         \n",
      "---  ------                   --------------   -----         \n",
      " 0   duration_sec             183412 non-null  int64         \n",
      " 1   start_time               183412 non-null  datetime64[ns]\n",
      " 2   end_time                 183412 non-null  object        \n",
      " 3   start_station_id         183215 non-null  float64       \n",
      " 4   start_station_name       183215 non-null  object        \n",
      " 5   start_station_latitude   183412 non-null  float64       \n",
      " 6   start_station_longitude  183412 non-null  float64       \n",
      " 7   end_station_id           183215 non-null  float64       \n",
      " 8   end_station_name         183215 non-null  object        \n",
      " 9   end_station_latitude     183412 non-null  float64       \n",
      " 10  end_station_longitude    183412 non-null  float64       \n",
      " 11  bike_id                  183412 non-null  int64         \n",
      " 12  user_type                183412 non-null  object        \n",
      " 13  member_birth_year        183412 non-null  float64       \n",
      " 14  member_gender            183412 non-null  object        \n",
      " 15  bike_share_for_all_trip  183412 non-null  object        \n",
      "dtypes: datetime64[ns](1), float64(7), int64(2), object(6)\n",
      "memory usage: 22.4+ MB\n"
     ]
    }
   ],
   "source": [
    "df['member_gender']=df['member_gender'].fillna(df['member_gender'].mode()[0])\n",
    "df['member_birth_year']=df['member_birth_year'].fillna(df['member_birth_year'].mode()[0])\n",
    "df.info()"
   ]
  },
  {
   "cell_type": "markdown",
   "metadata": {
    "slideshow": {
     "slide_type": "skip"
    }
   },
   "source": [
    "# Creating new columns for better analysis"
   ]
  },
  {
   "cell_type": "code",
   "execution_count": 5,
   "metadata": {
    "slideshow": {
     "slide_type": "skip"
    }
   },
   "outputs": [],
   "source": [
    "#1-start_hour column\n",
    "df['start_hour']=df['start_time'].dt.hour\n",
    "#2-start_day column\n",
    "df['start_day']=df['start_time'].dt.day_name()\n",
    "#3-start_month column\n",
    "df['start_month']=df['start_time'].dt.month\n",
    "#4-calculating member age from birth year\n",
    "df['member_age']=2019 - df['member_birth_year']"
   ]
  },
  {
   "cell_type": "code",
   "execution_count": 6,
   "metadata": {
    "slideshow": {
     "slide_type": "skip"
    }
   },
   "outputs": [],
   "source": [
    "#convert start day into ordered categorical type\n",
    "days=['Monday','Tuesday','Wednesday','Thursday','Friday','Saturday','Sunday']\n",
    "days_ordered=pd.api.types.CategoricalDtype(ordered = True,categories=days) \n",
    "df['start_day']=df['start_day'].astype(days_ordered) "
   ]
  },
  {
   "cell_type": "code",
   "execution_count": 7,
   "metadata": {
    "slideshow": {
     "slide_type": "skip"
    }
   },
   "outputs": [
    {
     "data": {
      "text/plain": [
       "(181702, 20)"
      ]
     },
     "execution_count": 7,
     "metadata": {},
     "output_type": "execute_result"
    }
   ],
   "source": [
    "#keep only trips which less or equal one hour\n",
    "df2=df[df['duration_sec']<=3600]\n",
    "df2.shape"
   ]
  },
  {
   "cell_type": "code",
   "execution_count": 8,
   "metadata": {
    "slideshow": {
     "slide_type": "skip"
    }
   },
   "outputs": [
    {
     "data": {
      "text/plain": [
       "(181510, 20)"
      ]
     },
     "execution_count": 8,
     "metadata": {},
     "output_type": "execute_result"
    }
   ],
   "source": [
    "#keep only members with ages less than or equal 80 years\n",
    "#because they represent a too small percentage of our population with 0.1%\n",
    "df3=df2[df2[\"member_age\"]<=80]\n",
    "df3.shape"
   ]
  },
  {
   "cell_type": "markdown",
   "metadata": {
    "slideshow": {
     "slide_type": "skip"
    }
   },
   "source": [
    "for better analysis I will divide ages into 3 categories   \n",
    "***youth,adults and seniors***   \n",
    "for better analysis I will divide day based on start hours into 4 categories   ***morning,afternoon,evening and night***\n"
   ]
  },
  {
   "cell_type": "code",
   "execution_count": 9,
   "metadata": {
    "slideshow": {
     "slide_type": "skip"
    }
   },
   "outputs": [
    {
     "data": {
      "text/html": [
       "<div>\n",
       "<style scoped>\n",
       "    .dataframe tbody tr th:only-of-type {\n",
       "        vertical-align: middle;\n",
       "    }\n",
       "\n",
       "    .dataframe tbody tr th {\n",
       "        vertical-align: top;\n",
       "    }\n",
       "\n",
       "    .dataframe thead th {\n",
       "        text-align: right;\n",
       "    }\n",
       "</style>\n",
       "<table border=\"1\" class=\"dataframe\">\n",
       "  <thead>\n",
       "    <tr style=\"text-align: right;\">\n",
       "      <th></th>\n",
       "      <th>duration_sec</th>\n",
       "      <th>start_time</th>\n",
       "      <th>end_time</th>\n",
       "      <th>start_station_id</th>\n",
       "      <th>start_station_name</th>\n",
       "      <th>start_station_latitude</th>\n",
       "      <th>start_station_longitude</th>\n",
       "      <th>end_station_id</th>\n",
       "      <th>end_station_name</th>\n",
       "      <th>end_station_latitude</th>\n",
       "      <th>...</th>\n",
       "      <th>bike_id</th>\n",
       "      <th>user_type</th>\n",
       "      <th>member_birth_year</th>\n",
       "      <th>member_gender</th>\n",
       "      <th>bike_share_for_all_trip</th>\n",
       "      <th>start_hour</th>\n",
       "      <th>start_day</th>\n",
       "      <th>start_month</th>\n",
       "      <th>member_age</th>\n",
       "      <th>age_buckets</th>\n",
       "    </tr>\n",
       "  </thead>\n",
       "  <tbody>\n",
       "    <tr>\n",
       "      <th>4</th>\n",
       "      <td>1585</td>\n",
       "      <td>2019-02-28 23:54:18.549</td>\n",
       "      <td>2019-03-01 00:20:44.0740</td>\n",
       "      <td>7.0</td>\n",
       "      <td>Frank H Ogawa Plaza</td>\n",
       "      <td>37.804562</td>\n",
       "      <td>-122.271738</td>\n",
       "      <td>222.0</td>\n",
       "      <td>10th Ave at E 15th St</td>\n",
       "      <td>37.792714</td>\n",
       "      <td>...</td>\n",
       "      <td>4898</td>\n",
       "      <td>Subscriber</td>\n",
       "      <td>1974.0</td>\n",
       "      <td>Male</td>\n",
       "      <td>Yes</td>\n",
       "      <td>23</td>\n",
       "      <td>Thursday</td>\n",
       "      <td>2</td>\n",
       "      <td>45.0</td>\n",
       "      <td>Adults</td>\n",
       "    </tr>\n",
       "    <tr>\n",
       "      <th>5</th>\n",
       "      <td>1793</td>\n",
       "      <td>2019-02-28 23:49:58.632</td>\n",
       "      <td>2019-03-01 00:19:51.7600</td>\n",
       "      <td>93.0</td>\n",
       "      <td>4th St at Mission Bay Blvd S</td>\n",
       "      <td>37.770407</td>\n",
       "      <td>-122.391198</td>\n",
       "      <td>323.0</td>\n",
       "      <td>Broadway at Kearny</td>\n",
       "      <td>37.798014</td>\n",
       "      <td>...</td>\n",
       "      <td>5200</td>\n",
       "      <td>Subscriber</td>\n",
       "      <td>1959.0</td>\n",
       "      <td>Male</td>\n",
       "      <td>No</td>\n",
       "      <td>23</td>\n",
       "      <td>Thursday</td>\n",
       "      <td>2</td>\n",
       "      <td>60.0</td>\n",
       "      <td>Adults</td>\n",
       "    </tr>\n",
       "    <tr>\n",
       "      <th>6</th>\n",
       "      <td>1147</td>\n",
       "      <td>2019-02-28 23:55:35.104</td>\n",
       "      <td>2019-03-01 00:14:42.5880</td>\n",
       "      <td>300.0</td>\n",
       "      <td>Palm St at Willow St</td>\n",
       "      <td>37.317298</td>\n",
       "      <td>-121.884995</td>\n",
       "      <td>312.0</td>\n",
       "      <td>San Jose Diridon Station</td>\n",
       "      <td>37.329732</td>\n",
       "      <td>...</td>\n",
       "      <td>3803</td>\n",
       "      <td>Subscriber</td>\n",
       "      <td>1983.0</td>\n",
       "      <td>Female</td>\n",
       "      <td>No</td>\n",
       "      <td>23</td>\n",
       "      <td>Thursday</td>\n",
       "      <td>2</td>\n",
       "      <td>36.0</td>\n",
       "      <td>Adults</td>\n",
       "    </tr>\n",
       "    <tr>\n",
       "      <th>7</th>\n",
       "      <td>1615</td>\n",
       "      <td>2019-02-28 23:41:06.766</td>\n",
       "      <td>2019-03-01 00:08:02.7560</td>\n",
       "      <td>10.0</td>\n",
       "      <td>Washington St at Kearny St</td>\n",
       "      <td>37.795393</td>\n",
       "      <td>-122.404770</td>\n",
       "      <td>127.0</td>\n",
       "      <td>Valencia St at 21st St</td>\n",
       "      <td>37.756708</td>\n",
       "      <td>...</td>\n",
       "      <td>6329</td>\n",
       "      <td>Subscriber</td>\n",
       "      <td>1989.0</td>\n",
       "      <td>Male</td>\n",
       "      <td>No</td>\n",
       "      <td>23</td>\n",
       "      <td>Thursday</td>\n",
       "      <td>2</td>\n",
       "      <td>30.0</td>\n",
       "      <td>Adults</td>\n",
       "    </tr>\n",
       "    <tr>\n",
       "      <th>8</th>\n",
       "      <td>1570</td>\n",
       "      <td>2019-02-28 23:41:48.790</td>\n",
       "      <td>2019-03-01 00:07:59.7150</td>\n",
       "      <td>10.0</td>\n",
       "      <td>Washington St at Kearny St</td>\n",
       "      <td>37.795393</td>\n",
       "      <td>-122.404770</td>\n",
       "      <td>127.0</td>\n",
       "      <td>Valencia St at 21st St</td>\n",
       "      <td>37.756708</td>\n",
       "      <td>...</td>\n",
       "      <td>6548</td>\n",
       "      <td>Subscriber</td>\n",
       "      <td>1988.0</td>\n",
       "      <td>Other</td>\n",
       "      <td>No</td>\n",
       "      <td>23</td>\n",
       "      <td>Thursday</td>\n",
       "      <td>2</td>\n",
       "      <td>31.0</td>\n",
       "      <td>Adults</td>\n",
       "    </tr>\n",
       "  </tbody>\n",
       "</table>\n",
       "<p>5 rows × 21 columns</p>\n",
       "</div>"
      ],
      "text/plain": [
       "   duration_sec              start_time                  end_time  \\\n",
       "4          1585 2019-02-28 23:54:18.549  2019-03-01 00:20:44.0740   \n",
       "5          1793 2019-02-28 23:49:58.632  2019-03-01 00:19:51.7600   \n",
       "6          1147 2019-02-28 23:55:35.104  2019-03-01 00:14:42.5880   \n",
       "7          1615 2019-02-28 23:41:06.766  2019-03-01 00:08:02.7560   \n",
       "8          1570 2019-02-28 23:41:48.790  2019-03-01 00:07:59.7150   \n",
       "\n",
       "   start_station_id            start_station_name  start_station_latitude  \\\n",
       "4               7.0           Frank H Ogawa Plaza               37.804562   \n",
       "5              93.0  4th St at Mission Bay Blvd S               37.770407   \n",
       "6             300.0          Palm St at Willow St               37.317298   \n",
       "7              10.0    Washington St at Kearny St               37.795393   \n",
       "8              10.0    Washington St at Kearny St               37.795393   \n",
       "\n",
       "   start_station_longitude  end_station_id          end_station_name  \\\n",
       "4              -122.271738           222.0     10th Ave at E 15th St   \n",
       "5              -122.391198           323.0        Broadway at Kearny   \n",
       "6              -121.884995           312.0  San Jose Diridon Station   \n",
       "7              -122.404770           127.0    Valencia St at 21st St   \n",
       "8              -122.404770           127.0    Valencia St at 21st St   \n",
       "\n",
       "   end_station_latitude  ...  bike_id   user_type member_birth_year  \\\n",
       "4             37.792714  ...     4898  Subscriber            1974.0   \n",
       "5             37.798014  ...     5200  Subscriber            1959.0   \n",
       "6             37.329732  ...     3803  Subscriber            1983.0   \n",
       "7             37.756708  ...     6329  Subscriber            1989.0   \n",
       "8             37.756708  ...     6548  Subscriber            1988.0   \n",
       "\n",
       "   member_gender bike_share_for_all_trip start_hour  start_day start_month  \\\n",
       "4           Male                     Yes         23   Thursday           2   \n",
       "5           Male                      No         23   Thursday           2   \n",
       "6         Female                      No         23   Thursday           2   \n",
       "7           Male                      No         23   Thursday           2   \n",
       "8          Other                      No         23   Thursday           2   \n",
       "\n",
       "   member_age  age_buckets  \n",
       "4        45.0       Adults  \n",
       "5        60.0       Adults  \n",
       "6        36.0       Adults  \n",
       "7        30.0       Adults  \n",
       "8        31.0       Adults  \n",
       "\n",
       "[5 rows x 21 columns]"
      ]
     },
     "execution_count": 9,
     "metadata": {},
     "output_type": "execute_result"
    }
   ],
   "source": [
    "#Bin edges that will be used to cut our dataset into groups\n",
    "bin_edges=[18,27,60,78]\n",
    "# Labels for the three age buckets in our dataset\n",
    "bin_names=['Youth','Adults','Seniors']\n",
    "#create age bucketscolumn \n",
    "df3['age_buckets']= pd.cut(df3['member_age'], bin_edges, labels=bin_names)\n",
    "#check for successful of creating age buckets column\n",
    "df3.head(5)"
   ]
  },
  {
   "cell_type": "code",
   "execution_count": 10,
   "metadata": {
    "slideshow": {
     "slide_type": "skip"
    }
   },
   "outputs": [
    {
     "data": {
      "text/html": [
       "<div>\n",
       "<style scoped>\n",
       "    .dataframe tbody tr th:only-of-type {\n",
       "        vertical-align: middle;\n",
       "    }\n",
       "\n",
       "    .dataframe tbody tr th {\n",
       "        vertical-align: top;\n",
       "    }\n",
       "\n",
       "    .dataframe thead th {\n",
       "        text-align: right;\n",
       "    }\n",
       "</style>\n",
       "<table border=\"1\" class=\"dataframe\">\n",
       "  <thead>\n",
       "    <tr style=\"text-align: right;\">\n",
       "      <th></th>\n",
       "      <th>duration_sec</th>\n",
       "      <th>start_time</th>\n",
       "      <th>end_time</th>\n",
       "      <th>start_station_id</th>\n",
       "      <th>start_station_name</th>\n",
       "      <th>start_station_latitude</th>\n",
       "      <th>start_station_longitude</th>\n",
       "      <th>end_station_id</th>\n",
       "      <th>end_station_name</th>\n",
       "      <th>end_station_latitude</th>\n",
       "      <th>...</th>\n",
       "      <th>user_type</th>\n",
       "      <th>member_birth_year</th>\n",
       "      <th>member_gender</th>\n",
       "      <th>bike_share_for_all_trip</th>\n",
       "      <th>start_hour</th>\n",
       "      <th>start_day</th>\n",
       "      <th>start_month</th>\n",
       "      <th>member_age</th>\n",
       "      <th>age_buckets</th>\n",
       "      <th>day_parts</th>\n",
       "    </tr>\n",
       "  </thead>\n",
       "  <tbody>\n",
       "    <tr>\n",
       "      <th>183407</th>\n",
       "      <td>480</td>\n",
       "      <td>2019-02-01 00:04:49.724</td>\n",
       "      <td>2019-02-01 00:12:50.0340</td>\n",
       "      <td>27.0</td>\n",
       "      <td>Beale St at Harrison St</td>\n",
       "      <td>37.788059</td>\n",
       "      <td>-122.391865</td>\n",
       "      <td>324.0</td>\n",
       "      <td>Union Square (Powell St at Post St)</td>\n",
       "      <td>37.788300</td>\n",
       "      <td>...</td>\n",
       "      <td>Subscriber</td>\n",
       "      <td>1996.0</td>\n",
       "      <td>Male</td>\n",
       "      <td>No</td>\n",
       "      <td>0</td>\n",
       "      <td>Friday</td>\n",
       "      <td>2</td>\n",
       "      <td>23.0</td>\n",
       "      <td>Youth</td>\n",
       "      <td>Night</td>\n",
       "    </tr>\n",
       "    <tr>\n",
       "      <th>183408</th>\n",
       "      <td>313</td>\n",
       "      <td>2019-02-01 00:05:34.744</td>\n",
       "      <td>2019-02-01 00:10:48.5020</td>\n",
       "      <td>21.0</td>\n",
       "      <td>Montgomery St BART Station (Market St at 2nd St)</td>\n",
       "      <td>37.789625</td>\n",
       "      <td>-122.400811</td>\n",
       "      <td>66.0</td>\n",
       "      <td>3rd St at Townsend St</td>\n",
       "      <td>37.778742</td>\n",
       "      <td>...</td>\n",
       "      <td>Subscriber</td>\n",
       "      <td>1984.0</td>\n",
       "      <td>Male</td>\n",
       "      <td>No</td>\n",
       "      <td>0</td>\n",
       "      <td>Friday</td>\n",
       "      <td>2</td>\n",
       "      <td>35.0</td>\n",
       "      <td>Adults</td>\n",
       "      <td>Night</td>\n",
       "    </tr>\n",
       "    <tr>\n",
       "      <th>183409</th>\n",
       "      <td>141</td>\n",
       "      <td>2019-02-01 00:06:05.549</td>\n",
       "      <td>2019-02-01 00:08:27.2200</td>\n",
       "      <td>278.0</td>\n",
       "      <td>The Alameda at Bush St</td>\n",
       "      <td>37.331932</td>\n",
       "      <td>-121.904888</td>\n",
       "      <td>277.0</td>\n",
       "      <td>Morrison Ave at Julian St</td>\n",
       "      <td>37.333658</td>\n",
       "      <td>...</td>\n",
       "      <td>Subscriber</td>\n",
       "      <td>1990.0</td>\n",
       "      <td>Male</td>\n",
       "      <td>Yes</td>\n",
       "      <td>0</td>\n",
       "      <td>Friday</td>\n",
       "      <td>2</td>\n",
       "      <td>29.0</td>\n",
       "      <td>Adults</td>\n",
       "      <td>Night</td>\n",
       "    </tr>\n",
       "    <tr>\n",
       "      <th>183410</th>\n",
       "      <td>139</td>\n",
       "      <td>2019-02-01 00:05:34.360</td>\n",
       "      <td>2019-02-01 00:07:54.2870</td>\n",
       "      <td>220.0</td>\n",
       "      <td>San Pablo Ave at MLK Jr Way</td>\n",
       "      <td>37.811351</td>\n",
       "      <td>-122.273422</td>\n",
       "      <td>216.0</td>\n",
       "      <td>San Pablo Ave at 27th St</td>\n",
       "      <td>37.817827</td>\n",
       "      <td>...</td>\n",
       "      <td>Subscriber</td>\n",
       "      <td>1988.0</td>\n",
       "      <td>Male</td>\n",
       "      <td>No</td>\n",
       "      <td>0</td>\n",
       "      <td>Friday</td>\n",
       "      <td>2</td>\n",
       "      <td>31.0</td>\n",
       "      <td>Adults</td>\n",
       "      <td>Night</td>\n",
       "    </tr>\n",
       "    <tr>\n",
       "      <th>183411</th>\n",
       "      <td>271</td>\n",
       "      <td>2019-02-01 00:00:20.636</td>\n",
       "      <td>2019-02-01 00:04:52.0580</td>\n",
       "      <td>24.0</td>\n",
       "      <td>Spear St at Folsom St</td>\n",
       "      <td>37.789677</td>\n",
       "      <td>-122.390428</td>\n",
       "      <td>37.0</td>\n",
       "      <td>2nd St at Folsom St</td>\n",
       "      <td>37.785000</td>\n",
       "      <td>...</td>\n",
       "      <td>Subscriber</td>\n",
       "      <td>1989.0</td>\n",
       "      <td>Male</td>\n",
       "      <td>No</td>\n",
       "      <td>0</td>\n",
       "      <td>Friday</td>\n",
       "      <td>2</td>\n",
       "      <td>30.0</td>\n",
       "      <td>Adults</td>\n",
       "      <td>Night</td>\n",
       "    </tr>\n",
       "  </tbody>\n",
       "</table>\n",
       "<p>5 rows × 22 columns</p>\n",
       "</div>"
      ],
      "text/plain": [
       "        duration_sec              start_time                  end_time  \\\n",
       "183407           480 2019-02-01 00:04:49.724  2019-02-01 00:12:50.0340   \n",
       "183408           313 2019-02-01 00:05:34.744  2019-02-01 00:10:48.5020   \n",
       "183409           141 2019-02-01 00:06:05.549  2019-02-01 00:08:27.2200   \n",
       "183410           139 2019-02-01 00:05:34.360  2019-02-01 00:07:54.2870   \n",
       "183411           271 2019-02-01 00:00:20.636  2019-02-01 00:04:52.0580   \n",
       "\n",
       "        start_station_id                                start_station_name  \\\n",
       "183407              27.0                           Beale St at Harrison St   \n",
       "183408              21.0  Montgomery St BART Station (Market St at 2nd St)   \n",
       "183409             278.0                            The Alameda at Bush St   \n",
       "183410             220.0                       San Pablo Ave at MLK Jr Way   \n",
       "183411              24.0                             Spear St at Folsom St   \n",
       "\n",
       "        start_station_latitude  start_station_longitude  end_station_id  \\\n",
       "183407               37.788059              -122.391865           324.0   \n",
       "183408               37.789625              -122.400811            66.0   \n",
       "183409               37.331932              -121.904888           277.0   \n",
       "183410               37.811351              -122.273422           216.0   \n",
       "183411               37.789677              -122.390428            37.0   \n",
       "\n",
       "                           end_station_name  end_station_latitude  ...  \\\n",
       "183407  Union Square (Powell St at Post St)             37.788300  ...   \n",
       "183408                3rd St at Townsend St             37.778742  ...   \n",
       "183409            Morrison Ave at Julian St             37.333658  ...   \n",
       "183410             San Pablo Ave at 27th St             37.817827  ...   \n",
       "183411                  2nd St at Folsom St             37.785000  ...   \n",
       "\n",
       "         user_type  member_birth_year member_gender  bike_share_for_all_trip  \\\n",
       "183407  Subscriber             1996.0          Male                       No   \n",
       "183408  Subscriber             1984.0          Male                       No   \n",
       "183409  Subscriber             1990.0          Male                      Yes   \n",
       "183410  Subscriber             1988.0          Male                       No   \n",
       "183411  Subscriber             1989.0          Male                       No   \n",
       "\n",
       "       start_hour start_day  start_month member_age  age_buckets  day_parts  \n",
       "183407          0    Friday            2       23.0        Youth      Night  \n",
       "183408          0    Friday            2       35.0       Adults      Night  \n",
       "183409          0    Friday            2       29.0       Adults      Night  \n",
       "183410          0    Friday            2       31.0       Adults      Night  \n",
       "183411          0    Friday            2       30.0       Adults      Night  \n",
       "\n",
       "[5 rows x 22 columns]"
      ]
     },
     "execution_count": 10,
     "metadata": {},
     "output_type": "execute_result"
    }
   ],
   "source": [
    "#Bin edges that will be used to cut our dataset into groups\n",
    "#value of (-1) to ensure including 0(12 am)hour included in the groups\n",
    "bin_edges=[-1,5,12,18,23]\n",
    "# Labels for the four day parts in our dataset\n",
    "bin_names=['Night','Morning','Afternoon','Evening']\n",
    "#create day parts column \n",
    "df3['day_parts']= pd.cut(df3['start_hour'], bin_edges, labels=bin_names)\n",
    "#check for successful of creating day parts column\n",
    "df3.tail()"
   ]
  },
  {
   "cell_type": "code",
   "execution_count": 11,
   "metadata": {
    "slideshow": {
     "slide_type": "skip"
    }
   },
   "outputs": [],
   "source": [
    "#convert age_buckets and day_parts into ordered categorical types\n",
    "var_dict = {'age_buckets': ['Youth','Adults','Seniors'],\n",
    "            'day_parts': ['Morning', 'Afternoon', 'Evening', 'Night']}\n",
    "                   \n",
    "\n",
    "for col in var_dict:\n",
    "    ordered_col = pd.api.types.CategoricalDtype(ordered = True, categories = var_dict[col])                              \n",
    "    df3[col] = df3[col].astype(ordered_col)"
   ]
  },
  {
   "cell_type": "markdown",
   "metadata": {
    "slideshow": {
     "slide_type": "slide"
    }
   },
   "source": [
    "## ( Distribution of Trip duration)\n",
    "\n",
    ">duration of trip has a right skewed distribution so the duration of the trips is increased   \n",
    " most of trip duration is less than 1800 seconds (half an hour) with 96.3%   \n",
    " there are too few trips which durations are more than 3600 seconds(one hour) with 0.9%"
   ]
  },
  {
   "cell_type": "code",
   "execution_count": 12,
   "metadata": {
    "slideshow": {
     "slide_type": "subslide"
    }
   },
   "outputs": [
    {
     "data": {
      "image/png": "[encoded data removed]",
      "text/plain": [
       "<Figure size 576x360 with 1 Axes>"
      ]
     },
     "metadata": {
      "needs_background": "light"
     },
     "output_type": "display_data"
    }
   ],
   "source": [
    "binsize = 20\n",
    "bins = np.arange(0, df2['duration_sec'].max()+binsize, binsize)\n",
    "plt.figure(figsize=[8, 5])\n",
    "plt.hist(data = df2, x = 'duration_sec', bins = bins)\n",
    "plt.title('Distribution of trip duration')\n",
    "plt.xlabel('Duration(sec)')\n",
    "plt.xlim(60, 3600)\n",
    "plt.axvline(x=1800, color = \"red\")\n",
    "plt.show()"
   ]
  },
  {
   "cell_type": "markdown",
   "metadata": {
    "collapsed": true,
    "slideshow": {
     "slide_type": "slide"
    }
   },
   "source": [
    "## (Distribution of Member Age)\n",
    "\n",
    "> the distribution of age is right skewed and most ages are \n",
    "between 20 and 45 years old   \n",
    "the most of our population are not retired yet and they are in work or still study   \n"
   ]
  },
  {
   "cell_type": "code",
   "execution_count": 13,
   "metadata": {
    "slideshow": {
     "slide_type": "subslide"
    }
   },
   "outputs": [
    {
     "data": {
      "image/png": "[encoded data removed]",
      "text/plain": [
       "<Figure size 576x360 with 1 Axes>"
      ]
     },
     "metadata": {
      "needs_background": "light"
     },
     "output_type": "display_data"
    }
   ],
   "source": [
    "#replot the histogram after removing outliers\n",
    "binsize =4\n",
    "bins = np.arange(0, df3['member_age'].max()+binsize, binsize)\n",
    "plt.figure(figsize=[8, 5])\n",
    "plt.hist(data = df3, x = 'member_age', bins = bins)\n",
    "plt.title('Distribution of member age')\n",
    "plt.xlabel('Member Age(year)')\n",
    "plt.xlim(15,85)\n",
    "plt.axvline(x=45, color = \"red\")\n",
    "plt.show()"
   ]
  },
  {
   "cell_type": "markdown",
   "metadata": {
    "slideshow": {
     "slide_type": "slide"
    }
   },
   "source": [
    "## (Percentage Of Each User Type)\n",
    ">most of trips are made by  subscriber members with percentage of 89.6%   \n",
    "while customers made only 10.4% of all trips  \n",
    "\n"
   ]
  },
  {
   "cell_type": "code",
   "execution_count": 14,
   "metadata": {
    "slideshow": {
     "slide_type": "subslide"
    }
   },
   "outputs": [
    {
     "data": {
      "image/png": "[encoded data removed]",
      "text/plain": [
       "<Figure size 504x504 with 1 Axes>"
      ]
     },
     "metadata": {},
     "output_type": "display_data"
    }
   ],
   "source": [
    "#plot pie chart for user type as it is a cateogrical variabt(round(user_counts/df3.shape[0],3)*100)\n",
    "user_counts= df3['user_type'].value_counts()\n",
    "labels ='Subscriber','Customer'\n",
    "sizes=user_counts/df3.shape[0]\n",
    "fig1,ax1 = plt.subplots(figsize = [7,7])\n",
    "ax1.pie(sizes,labels=labels, autopct='%1.1f%%', startangle=90) \n",
    "plt.title('Percentage Of Each User Type')\n",
    "plt.show()"
   ]
  },
  {
   "cell_type": "markdown",
   "metadata": {
    "slideshow": {
     "slide_type": "slide"
    }
   },
   "source": [
    "## (Percentage Of Each Gender In Our Data)\n",
    ">most of trips are made by  males members with percentage of 75.76%      \n",
    "while females made  22.27% of all trips and others made only 1.97% of all trips"
   ]
  },
  {
   "cell_type": "code",
   "execution_count": 15,
   "metadata": {
    "slideshow": {
     "slide_type": "subslide"
    }
   },
   "outputs": [
    {
     "data": {
      "image/png": "[encoded data removed]",
      "text/plain": [
       "<Figure size 432x432 with 1 Axes>"
      ]
     },
     "metadata": {},
     "output_type": "display_data"
    }
   ],
   "source": [
    "#plot pie chart for member gender as it is a cateogrical variable with only 3 values\n",
    "gender_counts= df3['member_gender'].value_counts()\n",
    "labels ='Male','Female','Other'\n",
    "sizes=gender_counts/df3.shape[0]\n",
    "fig1,ax1 = plt.subplots(figsize = [6,6])\n",
    "ax1.pie(sizes,labels=labels, autopct='%1.2f%%', startangle=90)\n",
    "plt.title('Percentage Of Each Gender')\n",
    "plt.show()"
   ]
  },
  {
   "cell_type": "markdown",
   "metadata": {
    "slideshow": {
     "slide_type": "slide"
    }
   },
   "source": [
    "## (Effect Of Day Parts Accorrding To User Type On The Trip Duration)\n",
    ">we found that long trips occur in morning and afternoon part of the day    \n",
    "and trip duration for customer are more than subscriber member for all parts of day"
   ]
  },
  {
   "cell_type": "code",
   "execution_count": 16,
   "metadata": {
    "slideshow": {
     "slide_type": "subslide"
    }
   },
   "outputs": [
    {
     "data": {
      "image/png": "[encoded data removed]",
      "text/plain": [
       "<Figure size 504x504 with 1 Axes>"
      ]
     },
     "metadata": {
      "needs_background": "light"
     },
     "output_type": "display_data"
    }
   ],
   "source": [
    "plt.figure(figsize = (7,7))\n",
    "sb.boxplot(data = df3, x = \"day_parts\", y = \"duration_sec\", hue='user_type')\n",
    "plt.xlabel('day parts');\n",
    "plt.ylabel('trip duration(sec)')\n",
    "plt.legend(bbox_to_anchor=(1, 1),loc='upper left')\n",
    "plt.title(\"Effect of day parts according to user type on trip duration\")\n",
    "\n",
    "plt.show()"
   ]
  },
  {
   "cell_type": "markdown",
   "metadata": {
    "slideshow": {
     "slide_type": "slide"
    }
   },
   "source": [
    "## (Effect Of Age Buckets Accorrding To Gender On The Trip Duration)\n",
    ">we found that for all age buckets males make the faster trips     \n",
    "and other make the slowest trips    \n",
    "except for youth females make the slowest trips"
   ]
  },
  {
   "cell_type": "code",
   "execution_count": 17,
   "metadata": {
    "slideshow": {
     "slide_type": "subslide"
    }
   },
   "outputs": [
    {
     "data": {
      "image/png": "[encoded data removed]",
      "text/plain": [
       "<Figure size 800x500 with 1 Axes>"
      ]
     },
     "metadata": {
      "needs_background": "light"
     },
     "output_type": "display_data"
    }
   ],
   "source": [
    "plt.figure(figsize = (8,5), dpi = 100)\n",
    "ax = sb.barplot(data = df3, x = 'age_buckets', y = 'duration_sec', hue = 'member_gender')\n",
    "ax.legend(loc = 8, ncol = 2, framealpha = 1, title = 'member gender')\n",
    "plt.title(\"Effect of age buckets according to gender on trip duration\");"
   ]
  },
  {
   "cell_type": "markdown",
   "metadata": {
    "slideshow": {
     "slide_type": "slide"
    }
   },
   "source": [
    "## (Effect Of Day Of Week According To Age Buckets On The Trip Duration)\n",
    ">we found that long trips occur at the weekend days such as saturday and sunday   \n",
    "and for most days  youth trips are faster and adults make slower trips\n",
    "while seniors make the slowest trips    \n",
    "except monday and thursday trips duration of adults and youth are close to each other\n"
   ]
  },
  {
   "cell_type": "code",
   "execution_count": 18,
   "metadata": {
    "slideshow": {
     "slide_type": "subslide"
    }
   },
   "outputs": [
    {
     "data": {
      "image/png": "[encoded data removed]",
      "text/plain": [
       "<Figure size 800x500 with 1 Axes>"
      ]
     },
     "metadata": {
      "needs_background": "light"
     },
     "output_type": "display_data"
    }
   ],
   "source": [
    "plt.figure(figsize = (8,5), dpi = 100)\n",
    "ax = sb.barplot(data = df3, x = 'start_day', y = 'duration_sec', hue = 'age_buckets')\n",
    "ax.legend(loc = 8, ncol = 2, framealpha = 1, title = 'age buckets')\n",
    "plt.title(\"Effect of day of week according to age buckets on trip duration\");"
   ]
  }
 ],
 "metadata": {
  "celltoolbar": "Slideshow",
  "kernelspec": {
   "display_name": "Python 3",
   "language": "python",
   "name": "python3"
  },
  "language_info": {
   "codemirror_mode": {
    "name": "ipython",
    "version": 3
   },
   "file_extension": ".py",
   "mimetype": "text/x-python",
   "name": "python",
   "nbconvert_exporter": "python",
   "pygments_lexer": "ipython3",
   "version": "3.8.8"
  }
 },
 "nbformat": 4,
 "nbformat_minor": 2
}
